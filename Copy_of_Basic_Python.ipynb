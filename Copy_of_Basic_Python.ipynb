{
  "nbformat": 4,
  "nbformat_minor": 0,
  "metadata": {
    "colab": {
      "provenance": [],
      "include_colab_link": true
    },
    "kernelspec": {
      "name": "python3",
      "display_name": "Python 3"
    },
    "language_info": {
      "name": "python"
    }
  },
  "cells": [
    {
      "cell_type": "markdown",
      "metadata": {
        "id": "view-in-github",
        "colab_type": "text"
      },
      "source": [
        "<a href=\"https://colab.research.google.com/github/tiaaulia38/python_for_datascince/blob/main/Copy_of_Basic_Python.ipynb\" target=\"_parent\"><img src=\"https://colab.research.google.com/assets/colab-badge.svg\" alt=\"Open In Colab\"/></a>"
      ]
    },
    {
      "cell_type": "markdown",
      "source": [
        "**@create By : Dede Brahma Arianto S.Kom., M.Kom**"
      ],
      "metadata": {
        "id": "647cG5G4dz5U"
      }
    },
    {
      "cell_type": "markdown",
      "source": [
        "# Basic Python"
      ],
      "metadata": {
        "id": "Vx4h1_ZPZrkq"
      }
    },
    {
      "cell_type": "markdown",
      "source": [
        "## Variable"
      ],
      "metadata": {
        "id": "ufVeYZSOZvv0"
      }
    },
    {
      "cell_type": "code",
      "execution_count": null,
      "metadata": {
        "id": "87-xocetZZoL"
      },
      "outputs": [],
      "source": [
        "#@title Variable\n",
        "\n",
        "nama = 'Dede'\n",
        "umur = 18\n",
        "berat_badan = 87.5"
      ]
    },
    {
      "cell_type": "code",
      "source": [
        "print(\"Nama :\", nama)\n",
        "print(\"Umur :\", umur)\n",
        "print(\"Berat Badan :\", berat_badan)"
      ],
      "metadata": {
        "colab": {
          "base_uri": "https://localhost:8080/"
        },
        "id": "Ls3AgQzXZ7He",
        "outputId": "617e56d4-4954-4254-be67-12bc879d4eca"
      },
      "execution_count": null,
      "outputs": [
        {
          "output_type": "stream",
          "name": "stdout",
          "text": [
            "Nama : Dede\n",
            "Umur : 18\n",
            "Berat Badan : 87.5\n"
          ]
        }
      ]
    },
    {
      "cell_type": "code",
      "source": [
        "#@title Variable with Input\n",
        "\n",
        "nama2 = input(\"Masukkan Nama Anda: \")\n",
        "umur2 = input(\"Masukkan Usia Anda: \")\n",
        "berat_badan2 = input(\"Masukkan Berat Badan Anda: \")"
      ],
      "metadata": {
        "colab": {
          "base_uri": "https://localhost:8080/"
        },
        "id": "-gQF582faZHh",
        "outputId": "724d7cc8-d1ef-46de-8c6b-21a5d628d676"
      },
      "execution_count": null,
      "outputs": [
        {
          "name": "stdout",
          "output_type": "stream",
          "text": [
            "Masukkan Nama Anda: dede 2\n",
            "Masukkan Usia Anda: 17\n",
            "Masukkan Berat Badan Anda: 71\n"
          ]
        }
      ]
    },
    {
      "cell_type": "code",
      "source": [
        "print(\"Nama :\", nama2)\n",
        "print(\"Umur :\", umur2)\n",
        "print(\"Berat Badan :\", berat_badan2)"
      ],
      "metadata": {
        "colab": {
          "base_uri": "https://localhost:8080/"
        },
        "id": "ZlzkVLF1aqlc",
        "outputId": "cd8bba6d-03e0-4e00-b9a4-b8d2ace8c2c0"
      },
      "execution_count": null,
      "outputs": [
        {
          "output_type": "stream",
          "name": "stdout",
          "text": [
            "Nama : dede 2\n",
            "Umur : 17\n",
            "Berat Badan : 71\n"
          ]
        }
      ]
    },
    {
      "cell_type": "code",
      "source": [
        "#@title Calculate with Variable\n",
        "\n",
        "tinggi_badan = 1.75\n",
        "bmi = berat_badan / (tinggi_badan ** 2)\n",
        "\n",
        "print(\"Berat Ideal :\", bmi)"
      ],
      "metadata": {
        "id": "YKMgaqCfaCkx",
        "colab": {
          "base_uri": "https://localhost:8080/"
        },
        "outputId": "c7d3b964-1222-4654-8d3f-5d484c6129c6"
      },
      "execution_count": null,
      "outputs": [
        {
          "output_type": "stream",
          "name": "stdout",
          "text": [
            "Berat Ideal : 28.571428571428573\n"
          ]
        }
      ]
    },
    {
      "cell_type": "code",
      "source": [
        "#@title Update Value Variable\n",
        "\n",
        "umur2 = 22"
      ],
      "metadata": {
        "id": "a8qc7E1WaGGZ"
      },
      "execution_count": null,
      "outputs": []
    },
    {
      "cell_type": "code",
      "source": [
        "print(\"Nama :\", nama)\n",
        "print(\"Umur 1 :\", umur)\n",
        "print(\"Umur 2 :\", umur2)\n",
        "print(\"Berat Badan :\", berat_badan)\n",
        "print(\"Tinggi Badan :\", tinggi_badan)\n",
        "print(\"BMI :\", bmi)"
      ],
      "metadata": {
        "colab": {
          "base_uri": "https://localhost:8080/"
        },
        "id": "WVtI888GaHxp",
        "outputId": "054a36a2-9709-4243-f3c1-54baf0d33449"
      },
      "execution_count": null,
      "outputs": [
        {
          "output_type": "stream",
          "name": "stdout",
          "text": [
            "Nama : Dede\n",
            "Umur 1 : 18\n",
            "Umur 2 : 22\n",
            "Berat Badan : 87.5\n",
            "Tinggi Badan : 1.75\n",
            "BMI : 28.571428571428573\n"
          ]
        }
      ]
    },
    {
      "cell_type": "code",
      "source": [
        "nama_1 = 'dede'\n",
        "print(nama_1)"
      ],
      "metadata": {
        "colab": {
          "base_uri": "https://localhost:8080/"
        },
        "id": "RdTiJw-mY2eP",
        "outputId": "b462e70d-8d30-4f2f-8b77-c0a0f80b1c26"
      },
      "execution_count": null,
      "outputs": [
        {
          "output_type": "stream",
          "name": "stdout",
          "text": [
            "dede\n"
          ]
        }
      ]
    },
    {
      "cell_type": "markdown",
      "source": [
        "## Komentar"
      ],
      "metadata": {
        "id": "HGYxcfrijgy9"
      }
    },
    {
      "cell_type": "code",
      "source": [
        "# ini adalah komentar\n",
        "# nama = 'dede' # ini adalah variabel nama\n",
        "# print(nama)\n",
        "# block code, kemudian ctrl + /"
      ],
      "metadata": {
        "id": "_fy41rfajiuL"
      },
      "execution_count": null,
      "outputs": []
    },
    {
      "cell_type": "markdown",
      "source": [
        "## Data Type"
      ],
      "metadata": {
        "id": "Dbi8Pj0zaKi8"
      }
    },
    {
      "cell_type": "code",
      "source": [
        "#@title Numeric Data Type\n",
        "\n",
        "a = 10        # integer\n",
        "b = 3.14      # float"
      ],
      "metadata": {
        "id": "yeYdU144axpr"
      },
      "execution_count": null,
      "outputs": []
    },
    {
      "cell_type": "code",
      "source": [
        "print(\"A :\", a)\n",
        "print(\"B :\", b)"
      ],
      "metadata": {
        "colab": {
          "base_uri": "https://localhost:8080/"
        },
        "id": "OUXtKgVKazEf",
        "outputId": "f8e4853a-826e-4419-b62e-71af5291ea4d"
      },
      "execution_count": null,
      "outputs": [
        {
          "output_type": "stream",
          "name": "stdout",
          "text": [
            "A : 10\n",
            "B : 3.14\n"
          ]
        }
      ]
    },
    {
      "cell_type": "code",
      "source": [
        "#@title String Data Type\n",
        "\n",
        "nama = \"John Doe\"   # string\n",
        "alamat = 'Jl. Ahmad Yani No. 10'   # string"
      ],
      "metadata": {
        "id": "JO4oLtX4a2Sh"
      },
      "execution_count": null,
      "outputs": []
    },
    {
      "cell_type": "code",
      "source": [
        "print(\"Nama :\", nama)\n",
        "print(\"Alamat :\", alamat)"
      ],
      "metadata": {
        "colab": {
          "base_uri": "https://localhost:8080/"
        },
        "id": "JXF-1K5sa4Ok",
        "outputId": "196c7639-2e68-4db6-ec19-d7fd68de6791"
      },
      "execution_count": null,
      "outputs": [
        {
          "output_type": "stream",
          "name": "stdout",
          "text": [
            "Nama : John Doe\n",
            "Alamat : Jl. Ahmad Yani No. 10\n"
          ]
        }
      ]
    },
    {
      "cell_type": "code",
      "source": [
        "#@title Boolean Data Type\n",
        "\n",
        "benar = True      # boolean True\n",
        "salah = False     # boolean False"
      ],
      "metadata": {
        "id": "mE4oTRxBa6AD"
      },
      "execution_count": null,
      "outputs": []
    },
    {
      "cell_type": "code",
      "source": [
        "print(benar)"
      ],
      "metadata": {
        "colab": {
          "base_uri": "https://localhost:8080/"
        },
        "id": "s71WtN8Ba8Jb",
        "outputId": "c3ffdd65-6a09-495a-b37e-cfcf9203e979"
      },
      "execution_count": null,
      "outputs": [
        {
          "output_type": "stream",
          "name": "stdout",
          "text": [
            "True\n"
          ]
        }
      ]
    },
    {
      "cell_type": "code",
      "source": [
        "#@title List Data Type\n",
        "\n",
        "buah = ['apel', 'jeruk', 'mangga', 'pisang']  # list\n",
        "angka = [1, 2, 3, 4, 5]                      # list"
      ],
      "metadata": {
        "id": "7ZN6pSGEa96S"
      },
      "execution_count": null,
      "outputs": []
    },
    {
      "cell_type": "code",
      "source": [
        "print(\"Buah :\", buah)\n",
        "print(\"Angka :\", angka)"
      ],
      "metadata": {
        "colab": {
          "base_uri": "https://localhost:8080/"
        },
        "id": "RBi4lb7ua_5r",
        "outputId": "9a5de3df-3df3-4923-e6ef-393125d01410"
      },
      "execution_count": null,
      "outputs": [
        {
          "output_type": "stream",
          "name": "stdout",
          "text": [
            "Buah : ['apel', 'jeruk', 'mangga', 'pisang']\n",
            "Angka : [1, 2, 3, 4, 5]\n"
          ]
        }
      ]
    },
    {
      "cell_type": "code",
      "source": [
        "#@title Tuple Data Type\n",
        "\n",
        "hari = ('Senin', 'Selasa', 'Rabu', 'Kamis', 'Jumat')  #\n",
        "bulan = ('Januari', 'Februari', 'Maret')"
      ],
      "metadata": {
        "id": "YRvLQcuFbBuT"
      },
      "execution_count": null,
      "outputs": []
    },
    {
      "cell_type": "code",
      "source": [
        "print(\"Hari :\", hari)\n",
        "print(\"Bulan :\", bulan)"
      ],
      "metadata": {
        "colab": {
          "base_uri": "https://localhost:8080/"
        },
        "id": "9tyWq7tubDE-",
        "outputId": "d24d2722-bdec-4724-f3d5-53f7cd64ff3f"
      },
      "execution_count": null,
      "outputs": [
        {
          "output_type": "stream",
          "name": "stdout",
          "text": [
            "Hari : ('Senin', 'Selasa', 'Rabu', 'Kamis', 'Jumat')\n",
            "Bulan : ('Januari', 'Februari', 'Maret')\n"
          ]
        }
      ]
    },
    {
      "cell_type": "code",
      "source": [
        "#@title Set Data Type\n",
        "\n",
        "buah = {'apel', 'jeruk', 'mangga', 'pisang'}  # set\n",
        "angka = set([1, 2, 3, 4, 5])"
      ],
      "metadata": {
        "id": "MxRWQ5TbbEom"
      },
      "execution_count": null,
      "outputs": []
    },
    {
      "cell_type": "code",
      "source": [
        "print(\"Buah :\", buah)\n",
        "print(\"Angka :\", angka)"
      ],
      "metadata": {
        "colab": {
          "base_uri": "https://localhost:8080/"
        },
        "id": "nMZFDD-1bGTe",
        "outputId": "aead131e-431f-4aeb-9312-dba0c9f26e64"
      },
      "execution_count": null,
      "outputs": [
        {
          "output_type": "stream",
          "name": "stdout",
          "text": [
            "Buah : {'jeruk', 'apel', 'pisang', 'mangga'}\n",
            "Angka : {1, 2, 3, 4, 5}\n"
          ]
        }
      ]
    },
    {
      "cell_type": "code",
      "source": [
        "#@title Dictionary Data Type\n",
        "\n",
        "data = {'nama': 'John Doe', 'umur': 25, 'alamat': 'Jl. Ahmad Yani No. 10'}   # dictionary\n",
        "# key (nama, umur, alamat)\n",
        "# value (john doe, 25, jl.ahmad yani)"
      ],
      "metadata": {
        "id": "_wxU3Ez8bH62"
      },
      "execution_count": null,
      "outputs": []
    },
    {
      "cell_type": "code",
      "source": [
        "print(data)"
      ],
      "metadata": {
        "colab": {
          "base_uri": "https://localhost:8080/"
        },
        "id": "9DVNG1olbJoW",
        "outputId": "ebd5dc68-ab9c-44b6-bd0b-cc4fedf2d466"
      },
      "execution_count": null,
      "outputs": [
        {
          "output_type": "stream",
          "name": "stdout",
          "text": [
            "{'nama': 'John Doe', 'umur': 25, 'alamat': 'Jl. Ahmad Yani No. 10'}\n"
          ]
        }
      ]
    },
    {
      "cell_type": "code",
      "source": [
        "#@title Data Type Checking\n",
        "\n",
        "# Tipe data integer\n",
        "x = 5\n",
        "print(type(x))    # Output: <class 'int'>\n",
        "\n",
        "# Tipe data float\n",
        "y = 3.14\n",
        "print(type(y))    # Output: <class 'float'>\n",
        "\n",
        "# Tipe data string\n",
        "z = 'Hello, World!'\n",
        "print(type(z))    # Output: <class 'str'>\n",
        "\n",
        "# Tipe data boolean\n",
        "a = True\n",
        "print(type(a))    # Output: <class 'bool'>\n",
        "\n",
        "# Tipe data list\n",
        "b = [1, 2, 3, 4, 5]\n",
        "print(type(b))    # Output: <class 'list'>\n",
        "\n",
        "# Tipe data tuple\n",
        "c = (1, 2, 3, 4, 5)\n",
        "print(type(c))    # Output: <class 'tuple'>\n",
        "\n",
        "# Tipe data set\n",
        "d = {1, 2, 3, 4, 5}\n",
        "print(type(d))    # Output: <class 'set'>\n",
        "\n",
        "# Tipe data dictionary\n",
        "e = {'nama': 'John Doe', 'umur': 25}\n",
        "print(type(e))    # Output: <class 'dict'>\n"
      ],
      "metadata": {
        "colab": {
          "base_uri": "https://localhost:8080/"
        },
        "id": "skM8zbVjbNaW",
        "outputId": "180398ae-0589-415c-e557-6fe2a62a16ca"
      },
      "execution_count": null,
      "outputs": [
        {
          "output_type": "stream",
          "name": "stdout",
          "text": [
            "<class 'int'>\n",
            "<class 'float'>\n",
            "<class 'str'>\n",
            "<class 'bool'>\n",
            "<class 'list'>\n",
            "<class 'tuple'>\n",
            "<class 'set'>\n",
            "<class 'dict'>\n"
          ]
        }
      ]
    },
    {
      "cell_type": "markdown",
      "source": [
        "## Basic arithmetic operation"
      ],
      "metadata": {
        "id": "AcLWUH9GbSnm"
      }
    },
    {
      "cell_type": "code",
      "source": [
        "#@title Penjumlahan\n",
        "\n",
        "x = 10\n",
        "y = 5\n",
        "z = x + y\n",
        "print(z)    # Output: 15"
      ],
      "metadata": {
        "colab": {
          "base_uri": "https://localhost:8080/"
        },
        "id": "l_aAThBLbU4e",
        "outputId": "8f537f8d-6d7c-4b90-8953-cd5b08a27135"
      },
      "execution_count": null,
      "outputs": [
        {
          "output_type": "stream",
          "name": "stdout",
          "text": [
            "15\n"
          ]
        }
      ]
    },
    {
      "cell_type": "code",
      "source": [
        "#@title Pengurangan\n",
        "\n",
        "x = 10\n",
        "y = 5\n",
        "z = x - y\n",
        "print(z)    # Output: 5"
      ],
      "metadata": {
        "colab": {
          "base_uri": "https://localhost:8080/"
        },
        "id": "wxVGljMHbb7u",
        "outputId": "d297690b-ac7f-4a54-8090-f82172fa2281"
      },
      "execution_count": null,
      "outputs": [
        {
          "output_type": "stream",
          "name": "stdout",
          "text": [
            "5\n"
          ]
        }
      ]
    },
    {
      "cell_type": "code",
      "source": [
        "#@title Perkalian\n",
        "\n",
        "\n",
        "x = 10\n",
        "y = 5\n",
        "z = x * y\n",
        "print(z)    # Output: 50"
      ],
      "metadata": {
        "colab": {
          "base_uri": "https://localhost:8080/"
        },
        "id": "EF7SGyddbeEz",
        "outputId": "eaef58cc-0ca6-471d-98aa-8910e266c159"
      },
      "execution_count": null,
      "outputs": [
        {
          "output_type": "stream",
          "name": "stdout",
          "text": [
            "50\n"
          ]
        }
      ]
    },
    {
      "cell_type": "code",
      "source": [
        "#@title Pembagian\n",
        "\n",
        "x = 10\n",
        "y = 5\n",
        "z = x / y\n",
        "print(z)    # Output: 2.0"
      ],
      "metadata": {
        "colab": {
          "base_uri": "https://localhost:8080/"
        },
        "id": "Wf7u9-hgbgEl",
        "outputId": "cf4401db-1663-45cc-85c2-a9b390fb8d03"
      },
      "execution_count": null,
      "outputs": [
        {
          "output_type": "stream",
          "name": "stdout",
          "text": [
            "2.0\n"
          ]
        }
      ]
    },
    {
      "cell_type": "code",
      "source": [
        "#@title Pembagian Bulat\n",
        "\n",
        "x = 9\n",
        "y = 3\n",
        "z = x // y\n",
        "print(z)    # Output: 3"
      ],
      "metadata": {
        "colab": {
          "base_uri": "https://localhost:8080/"
        },
        "id": "cpIu7qXhbiWd",
        "outputId": "a6d9dbbd-010d-404b-987e-c8117f64e93b"
      },
      "execution_count": null,
      "outputs": [
        {
          "output_type": "stream",
          "name": "stdout",
          "text": [
            "3\n"
          ]
        }
      ]
    },
    {
      "cell_type": "code",
      "source": [
        "#@title Modulus\n",
        "\n",
        "x = 13\n",
        "y = 3\n",
        "z = x % y\n",
        "print(z)    # Output: 1"
      ],
      "metadata": {
        "colab": {
          "base_uri": "https://localhost:8080/"
        },
        "id": "azsN3WPrblKp",
        "outputId": "ca04f6fc-c8d3-4a35-b0e1-6cafff98dbb2"
      },
      "execution_count": null,
      "outputs": [
        {
          "output_type": "stream",
          "name": "stdout",
          "text": [
            "1\n"
          ]
        }
      ]
    },
    {
      "cell_type": "code",
      "source": [
        "#@title Pangkat\n",
        "\n",
        "\n",
        "x = 2\n",
        "y = 3\n",
        "z = x ** y\n",
        "print(z)    # Output: 8"
      ],
      "metadata": {
        "colab": {
          "base_uri": "https://localhost:8080/"
        },
        "id": "3i2XCuqEbnYV",
        "outputId": "671d3ffb-f3d3-48e2-e55f-a2a64f628fed"
      },
      "execution_count": null,
      "outputs": [
        {
          "output_type": "stream",
          "name": "stdout",
          "text": [
            "8\n"
          ]
        }
      ]
    },
    {
      "cell_type": "markdown",
      "source": [
        "## String Manipulation"
      ],
      "metadata": {
        "id": "CCJi8zg5buZy"
      }
    },
    {
      "cell_type": "code",
      "source": [
        "#@title Concatenation\n",
        "\n",
        "\n",
        "a = \"Halo\"\n",
        "b = \"Dunia\"\n",
        "c = a + \" \" + b\n",
        "print(c) # Output: \"Halo Dunia\"\n"
      ],
      "metadata": {
        "colab": {
          "base_uri": "https://localhost:8080/"
        },
        "id": "KQnB7EZLbwAx",
        "outputId": "c2647a33-338c-4e5f-883a-73bbbafc7a7d"
      },
      "execution_count": null,
      "outputs": [
        {
          "output_type": "stream",
          "name": "stdout",
          "text": [
            "Halo Dunia\n"
          ]
        }
      ]
    },
    {
      "cell_type": "code",
      "source": [
        "#@title Multiplication\n",
        "\n",
        "a = \"Halo \"\n",
        "b = a * 3\n",
        "print(b) # Output: \"Halo Halo Halo \"\n"
      ],
      "metadata": {
        "colab": {
          "base_uri": "https://localhost:8080/"
        },
        "id": "zY8x2GTNb3wR",
        "outputId": "0a91eb1d-9ed7-47f7-96e8-693a65cce5d0"
      },
      "execution_count": null,
      "outputs": [
        {
          "output_type": "stream",
          "name": "stdout",
          "text": [
            "Halo Halo Halo \n"
          ]
        }
      ]
    },
    {
      "cell_type": "code",
      "source": [
        "#@title Indexing\n",
        "\n",
        "# index, start = 0\n",
        "# index positif = 0,1,2,3\n",
        "# index negatif = -1, -2, -3\n",
        "a = \"Halo, Dunia!\"\n",
        "\n",
        "b = a[0]\n",
        "c = a[2]\n",
        "d = a[-1]\n",
        "e = a[-12]\n",
        "f = len(a)\n",
        "\n",
        "\n",
        "print(a) # Output: \"Halo, Dunia!\"\n",
        "print(b) # Output: \"H\"\n",
        "print(c) # Output: \"l\"\n",
        "print(d) # Output: \"!\"\n",
        "print(e)\n",
        "print(f)"
      ],
      "metadata": {
        "colab": {
          "base_uri": "https://localhost:8080/"
        },
        "id": "UqywOYyfcgsJ",
        "outputId": "93c5c441-9b9a-46f5-b1fb-05e15d10fec4"
      },
      "execution_count": null,
      "outputs": [
        {
          "output_type": "stream",
          "name": "stdout",
          "text": [
            "Halo, Dunia!\n",
            "H\n",
            "l\n",
            "!\n",
            "H\n",
            "12\n"
          ]
        }
      ]
    },
    {
      "cell_type": "code",
      "source": [
        "#@title Slicing\n",
        "# start:end\n",
        "# start:end:lompatan\n",
        "\n",
        "a = \"Halo Dunia\"\n",
        "b = a[0:6]\n",
        "c = a[0:8:2]\n",
        "print(b)\n",
        "print(c) # Output: \"Halo\"\n"
      ],
      "metadata": {
        "colab": {
          "base_uri": "https://localhost:8080/"
        },
        "id": "TNna8ZMPb7aR",
        "outputId": "d7005f86-8a4e-4923-f2c9-59675706fae9"
      },
      "execution_count": null,
      "outputs": [
        {
          "output_type": "stream",
          "name": "stdout",
          "text": [
            "Halo D\n",
            "Hl u\n"
          ]
        }
      ]
    },
    {
      "cell_type": "code",
      "source": [
        "#@title Replace\n",
        "# replace(oldvalue, newvalue)\n",
        "\n",
        "a = \"Halo Dunia\"\n",
        "b = a.replace(\"Dunia\", \"Semua\")\n",
        "print(b) # Output: \"Halo Semua\"\n"
      ],
      "metadata": {
        "colab": {
          "base_uri": "https://localhost:8080/"
        },
        "id": "6fR_YJ1mb-vt",
        "outputId": "524139fb-e007-4ce2-a7fc-2453df7fdcc6"
      },
      "execution_count": null,
      "outputs": [
        {
          "output_type": "stream",
          "name": "stdout",
          "text": [
            "Halo Semua\n"
          ]
        }
      ]
    },
    {
      "cell_type": "code",
      "source": [
        "#@title Lowercase\n",
        "\n",
        "a = \"Halo Dunia\"\n",
        "b = a.lower()\n",
        "print(b) # Output: \"halo dunia\"\n"
      ],
      "metadata": {
        "colab": {
          "base_uri": "https://localhost:8080/"
        },
        "id": "_NkMEdUJcAtk",
        "outputId": "e270cd69-ca7d-4afc-80b0-c088876d514d"
      },
      "execution_count": null,
      "outputs": [
        {
          "output_type": "stream",
          "name": "stdout",
          "text": [
            "halo dunia\n"
          ]
        }
      ]
    },
    {
      "cell_type": "code",
      "source": [
        "#@title Uppercase\n",
        "\n",
        "a = \"Halo Dunia\"\n",
        "b = a.upper()\n",
        "print(b) # Output: \"HALO DUNIA\"\n"
      ],
      "metadata": {
        "colab": {
          "base_uri": "https://localhost:8080/"
        },
        "id": "1-cINSfKcCI4",
        "outputId": "9cf5d539-6ccf-4fb4-c10a-dffb5d3963a0"
      },
      "execution_count": null,
      "outputs": [
        {
          "output_type": "stream",
          "name": "stdout",
          "text": [
            "HALO DUNIA\n"
          ]
        }
      ]
    },
    {
      "cell_type": "code",
      "source": [
        "#@title Capitalize\n",
        "\n",
        "a = \"Halo Dunia\"\n",
        "b = a.capitalize()\n",
        "print(b) # Output: \"Halo dunia\""
      ],
      "metadata": {
        "colab": {
          "base_uri": "https://localhost:8080/"
        },
        "id": "bP2j82ftcJd4",
        "outputId": "878b228d-7e18-4153-bbba-c97c9a9c1b4c"
      },
      "execution_count": null,
      "outputs": [
        {
          "output_type": "stream",
          "name": "stdout",
          "text": [
            "Halo dunia\n"
          ]
        }
      ]
    },
    {
      "cell_type": "code",
      "source": [
        "print(a.capitalize())"
      ],
      "metadata": {
        "colab": {
          "base_uri": "https://localhost:8080/"
        },
        "id": "w6dBYBw8j86y",
        "outputId": "152e697d-a3c1-4a7c-992a-c61c615ec318"
      },
      "execution_count": null,
      "outputs": [
        {
          "output_type": "stream",
          "name": "stdout",
          "text": [
            "Halo dunia\n"
          ]
        }
      ]
    },
    {
      "cell_type": "code",
      "source": [
        "#@title Split\n",
        "\n",
        "a = \"Halo, Dunia, Semua\"\n",
        "b = a.split(\", \")\n",
        "print(type(a))\n",
        "print(b)\n",
        "print(type(b))\n",
        "print(b[1]) # Output: [\"Halo\", \"Dunia\", \"Semua\"]\n"
      ],
      "metadata": {
        "colab": {
          "base_uri": "https://localhost:8080/"
        },
        "id": "q-oqkEnVcEBE",
        "outputId": "25d103dd-0964-420c-ebd6-28fdb010fefa"
      },
      "execution_count": null,
      "outputs": [
        {
          "output_type": "stream",
          "name": "stdout",
          "text": [
            "<class 'str'>\n",
            "['Halo', 'Dunia', 'Semua']\n",
            "<class 'list'>\n",
            "Dunia\n"
          ]
        }
      ]
    },
    {
      "cell_type": "code",
      "source": [
        "#@title Join\n",
        "\n",
        "a = [\"Halo\", \"Dunia\", \"Semua\"]\n",
        "b = \", \".join(a)\n",
        "\n",
        "print(type(a))\n",
        "print(a)\n",
        "\n",
        "print(\"========\")\n",
        "print(type(b))\n",
        "print(b) # Output: \"Halo, Dunia, Semua\"\n"
      ],
      "metadata": {
        "colab": {
          "base_uri": "https://localhost:8080/"
        },
        "id": "qDv3FYvtcHWR",
        "outputId": "39e7d0a9-19a8-4464-8faa-79f01bd5db1c"
      },
      "execution_count": null,
      "outputs": [
        {
          "output_type": "stream",
          "name": "stdout",
          "text": [
            "<class 'list'>\n",
            "['Halo', 'Dunia', 'Semua']\n",
            "========\n",
            "<class 'str'>\n",
            "Halo, Dunia, Semua\n"
          ]
        }
      ]
    },
    {
      "cell_type": "markdown",
      "source": [
        "## Typecasting"
      ],
      "metadata": {
        "id": "hL4dJ7pidbzS"
      }
    },
    {
      "cell_type": "code",
      "source": [
        "#@title Data Type Casting - Integer\n",
        "\n",
        "x = '5'\n",
        "y = int(x)\n",
        "\n",
        "print(type(x))\n",
        "print(y)    # Output: 5\n",
        "print(type(y)) # Output: int\n"
      ],
      "metadata": {
        "colab": {
          "base_uri": "https://localhost:8080/"
        },
        "id": "EaXA3DKPdeIE",
        "outputId": "e2ae549c-0677-4008-8d94-87cf146b5e4a"
      },
      "execution_count": null,
      "outputs": [
        {
          "output_type": "stream",
          "name": "stdout",
          "text": [
            "<class 'str'>\n",
            "5\n",
            "<class 'int'>\n"
          ]
        }
      ]
    },
    {
      "cell_type": "code",
      "source": [
        "#@title Data Type Casting - Float\n",
        "\n",
        "\n",
        "x = '3'\n",
        "y = float(x)\n",
        "print(y)    # Output: 3.14\n",
        "print(type(y)) # Output: float\n"
      ],
      "metadata": {
        "colab": {
          "base_uri": "https://localhost:8080/"
        },
        "id": "UAghXDHKdjei",
        "outputId": "ffc92c14-faff-4ad0-9db9-e3bad37989a7"
      },
      "execution_count": null,
      "outputs": [
        {
          "output_type": "stream",
          "name": "stdout",
          "text": [
            "3.0\n",
            "<class 'float'>\n"
          ]
        }
      ]
    },
    {
      "cell_type": "code",
      "source": [
        "#@title Data Type Casting - String\n",
        "\n",
        "x = 5\n",
        "y = str(x)\n",
        "\n",
        "print(type(x))\n",
        "print(y)    # Output: '5'\n",
        "print(type(y)) # Output: str\n"
      ],
      "metadata": {
        "colab": {
          "base_uri": "https://localhost:8080/"
        },
        "id": "K4fCSz9AdlBG",
        "outputId": "ecfe6352-bfb1-4c10-fa55-59f8b7ae9697"
      },
      "execution_count": null,
      "outputs": [
        {
          "output_type": "stream",
          "name": "stdout",
          "text": [
            "<class 'int'>\n",
            "5\n",
            "<class 'str'>\n"
          ]
        }
      ]
    },
    {
      "cell_type": "code",
      "source": [
        "#@title Data Type Casting - Boolean\n",
        "\n",
        "x = ''\n",
        "y = bool(x)\n",
        "print(y)    # Output: False\n",
        "print(type(y)) # Output: bool\n"
      ],
      "metadata": {
        "colab": {
          "base_uri": "https://localhost:8080/"
        },
        "id": "IkQ4NKhVdmsy",
        "outputId": "913bbc0f-3693-414a-91bb-caa7182f4763"
      },
      "execution_count": null,
      "outputs": [
        {
          "output_type": "stream",
          "name": "stdout",
          "text": [
            "False\n",
            "<class 'bool'>\n"
          ]
        }
      ]
    },
    {
      "cell_type": "markdown",
      "source": [
        "## Latihan"
      ],
      "metadata": {
        "id": "E1uA8qvil0y7"
      }
    },
    {
      "cell_type": "markdown",
      "source": [
        "1. Buat contoh :\n",
        "- Variabel\n",
        "- Data type\n",
        "- Arithmatic\n",
        "- manipulation\n",
        "- type casting"
      ],
      "metadata": {
        "id": "Bk7cOMhFeHjA"
      }
    },
    {
      "cell_type": "markdown",
      "source": [
        "2. Diberikan nomor telepon berikut.\n",
        "\n",
        "phone_num = “+62801-0029-9000”\n",
        "\n",
        "ganti “+62” menjadi “0” dan hilangkan simbol “-”\n"
      ],
      "metadata": {
        "id": "WgK-qJbMmC6j"
      }
    }
  ]
}