{
  "nbformat": 4,
  "nbformat_minor": 0,
  "metadata": {
    "colab": {
      "provenance": [],
      "include_colab_link": true
    },
    "kernelspec": {
      "name": "python3",
      "display_name": "Python 3"
    },
    "language_info": {
      "name": "python"
    }
  },
  "cells": [
    {
      "cell_type": "markdown",
      "metadata": {
        "id": "view-in-github",
        "colab_type": "text"
      },
      "source": [
        "<a href=\"https://colab.research.google.com/github/tiaaulia38/python_for_datascince/blob/main/Copy_of_Function.ipynb\" target=\"_parent\"><img src=\"https://colab.research.google.com/assets/colab-badge.svg\" alt=\"Open In Colab\"/></a>"
      ]
    },
    {
      "cell_type": "markdown",
      "source": [
        "**@create By : Dede Brahma Arianto S.Kom., M.Kom**"
      ],
      "metadata": {
        "id": "EaeYhtq4ePtY"
      }
    },
    {
      "cell_type": "markdown",
      "source": [
        "# Function"
      ],
      "metadata": {
        "id": "p6zUQtU8GYm1"
      }
    },
    {
      "cell_type": "code",
      "execution_count": null,
      "metadata": {
        "id": "qBggfmOYGJL1"
      },
      "outputs": [],
      "source": [
        "#@title fungsi sederhana\n",
        "\n",
        "def coba_fungsi(): #definisi nama fungsi\n",
        "\tprint(\"ini adalah fungsiku\") #proses dari fungsi\n"
      ]
    },
    {
      "cell_type": "code",
      "source": [
        "coba_fungsi() #panggil nama fungsi"
      ],
      "metadata": {
        "id": "qOIFERV8GhZl",
        "colab": {
          "base_uri": "https://localhost:8080/"
        },
        "outputId": "0fbb6139-8c3d-45b2-db6b-1b4615de1188"
      },
      "execution_count": null,
      "outputs": [
        {
          "output_type": "stream",
          "name": "stdout",
          "text": [
            "ini adalah fungsiku\n"
          ]
        }
      ]
    },
    {
      "cell_type": "code",
      "source": [
        "#@title fungsi dengan return\n",
        "\n",
        "def coba_fungsi2():\n",
        "\tvar_tes = \"ini adalah fungsi\"\n",
        "\treturn var_tes\n"
      ],
      "metadata": {
        "id": "S2KyWp9YGjqv"
      },
      "execution_count": null,
      "outputs": []
    },
    {
      "cell_type": "code",
      "source": [
        "hasil = coba_fungsi2()\n",
        "print(\"Hasil fungsi adalah: \", hasil)\n",
        "\n",
        "# print(\"Hasil fungsi adalah: \", coba_fungsi2())"
      ],
      "metadata": {
        "colab": {
          "base_uri": "https://localhost:8080/"
        },
        "id": "FPy0q0tzGlFL",
        "outputId": "db4b6253-8683-444e-bc77-667c5cc49246"
      },
      "execution_count": null,
      "outputs": [
        {
          "output_type": "stream",
          "name": "stdout",
          "text": [
            "Hasil fungsi adalah:  ini adalah fungsi\n"
          ]
        }
      ]
    },
    {
      "cell_type": "code",
      "source": [
        "#@title fungsi dengan 2 return\n",
        "\n",
        "def coba_fungsi3():\n",
        "  var_1 = \"ini isi variabel 1\"\n",
        "  var_2 = \"ini isi variabel 2\"\n",
        "  return var_1, var_2 #jika dibalik outputnya pun terbalik\n",
        "\n",
        "hasil1, hasil2 = coba_fungsi3()\n",
        "print(\"Hasil 1 : \", hasil1)\n",
        "print(\"Hasil 2 : \", hasil2)\n",
        "\n",
        "# hasil1 = coba_fungsi3()\n",
        "# print(\"Hasil 1 : \", hasil1)"
      ],
      "metadata": {
        "colab": {
          "base_uri": "https://localhost:8080/"
        },
        "id": "RmtPmuYVGmX5",
        "outputId": "9c3dcec6-4125-434c-8445-d0ddaa928451"
      },
      "execution_count": null,
      "outputs": [
        {
          "output_type": "stream",
          "name": "stdout",
          "text": [
            "Hasil 1 :  ini isi variabel 1\n",
            "Hasil 2 :  ini isi variabel 2\n"
          ]
        }
      ]
    },
    {
      "cell_type": "code",
      "source": [
        "#@title fungsi dengan argument\n",
        "\n",
        "def coba_fungsi4(a, b):\n",
        "  var_a = a\n",
        "  var_b = b\n",
        "  var_c = var_a + var_b\n",
        "  return var_c"
      ],
      "metadata": {
        "id": "bTnENICIGn79"
      },
      "execution_count": null,
      "outputs": []
    },
    {
      "cell_type": "code",
      "source": [
        "nilai_1 = 5\n",
        "nilai_2 = 10\n",
        "\n",
        "hasil_nilai = coba_fungsi4(nilai_1, nilai_2)\n",
        "print(\"Hasil penjumlahan: \", hasil_nilai)"
      ],
      "metadata": {
        "colab": {
          "base_uri": "https://localhost:8080/"
        },
        "id": "rQ1H1E_AGpCe",
        "outputId": "f622b147-9dd3-4c7c-8e11-b472360b0e66"
      },
      "execution_count": null,
      "outputs": [
        {
          "output_type": "stream",
          "name": "stdout",
          "text": [
            "Hasil penjumlahan:  15\n"
          ]
        }
      ]
    },
    {
      "cell_type": "code",
      "source": [
        "hasil_nilai = coba_fungsi4(20, 5)\n",
        "print(\"Hasil penjumlahan: \", hasil_nilai)"
      ],
      "metadata": {
        "colab": {
          "base_uri": "https://localhost:8080/"
        },
        "id": "5zggasEgGqY8",
        "outputId": "199ee626-569b-4852-b569-39106c2b4e5d"
      },
      "execution_count": null,
      "outputs": [
        {
          "output_type": "stream",
          "name": "stdout",
          "text": [
            "Hasil penjumlahan:  25\n"
          ]
        }
      ]
    },
    {
      "cell_type": "code",
      "source": [
        "hasil_nilai = coba_fungsi4(int(input(\"masukkan nilai 1 = \")), int(input(\"masukkan nilai 2= \")))\n",
        "print(\"Hasil penjumlahan: \", hasil_nilai)"
      ],
      "metadata": {
        "colab": {
          "base_uri": "https://localhost:8080/",
          "height": 176
        },
        "id": "8gbpWc2dGsIl",
        "outputId": "0c4b0360-d109-49f8-fb37-35a152d558db"
      },
      "execution_count": null,
      "outputs": [
        {
          "output_type": "error",
          "ename": "NameError",
          "evalue": "name 'coba_fungsi4' is not defined",
          "traceback": [
            "\u001b[0;31m---------------------------------------------------------------------------\u001b[0m",
            "\u001b[0;31mNameError\u001b[0m                                 Traceback (most recent call last)",
            "\u001b[0;32m<ipython-input-8-2427c66ef51e>\u001b[0m in \u001b[0;36m<cell line: 1>\u001b[0;34m()\u001b[0m\n\u001b[0;32m----> 1\u001b[0;31m \u001b[0mhasil_nilai\u001b[0m \u001b[0;34m=\u001b[0m \u001b[0mcoba_fungsi4\u001b[0m\u001b[0;34m(\u001b[0m\u001b[0mint\u001b[0m\u001b[0;34m(\u001b[0m\u001b[0minput\u001b[0m\u001b[0;34m(\u001b[0m\u001b[0;34m\"masukkan nilai 1 = \"\u001b[0m\u001b[0;34m)\u001b[0m\u001b[0;34m)\u001b[0m\u001b[0;34m,\u001b[0m \u001b[0mint\u001b[0m\u001b[0;34m(\u001b[0m\u001b[0minput\u001b[0m\u001b[0;34m(\u001b[0m\u001b[0;34m\"masukkan nilai 2= \"\u001b[0m\u001b[0;34m)\u001b[0m\u001b[0;34m)\u001b[0m\u001b[0;34m)\u001b[0m\u001b[0;34m\u001b[0m\u001b[0;34m\u001b[0m\u001b[0m\n\u001b[0m\u001b[1;32m      2\u001b[0m \u001b[0mprint\u001b[0m\u001b[0;34m(\u001b[0m\u001b[0;34m\"Hasil penjumlahan: \"\u001b[0m\u001b[0;34m,\u001b[0m \u001b[0mhasil_nilai\u001b[0m\u001b[0;34m)\u001b[0m\u001b[0;34m\u001b[0m\u001b[0;34m\u001b[0m\u001b[0m\n",
            "\u001b[0;31mNameError\u001b[0m: name 'coba_fungsi4' is not defined"
          ]
        }
      ]
    },
    {
      "cell_type": "code",
      "source": [
        "#@title fungsi dengan 2 argument dan 2 return\n",
        "\n",
        "def coba_fungsi5(a, b):\n",
        "  var_a = a * 2\n",
        "  var_b = b * 4\n",
        "  return var_a, var_b\n",
        "\n",
        "hasil1, hasil2 = coba_fungsi5(10, 3)\n",
        "print(\"Hasil 1 : \", hasil1)\n",
        "print(\"Hasil 2 : \", hasil2)"
      ],
      "metadata": {
        "colab": {
          "base_uri": "https://localhost:8080/"
        },
        "id": "nIpW8M_yGtmZ",
        "outputId": "4b8dbc73-0058-4aa7-e5f7-dafa87baf0e0"
      },
      "execution_count": null,
      "outputs": [
        {
          "output_type": "stream",
          "name": "stdout",
          "text": [
            "Hasil 1 :  20\n",
            "Hasil 2 :  12\n"
          ]
        }
      ]
    },
    {
      "cell_type": "markdown",
      "source": [
        "### Fungsi dengan *args"
      ],
      "metadata": {
        "id": "KPQBC3qWGwHT"
      }
    },
    {
      "cell_type": "markdown",
      "source": [
        "Untuk args menggunakan satu tanda bintang \"*\" Dapat diartikan bahwa def function(*args) akan mengambil seluruh nilai dalam input mengikuti posisi yang sudah ditentukan sebagai variabelnya."
      ],
      "metadata": {
        "id": "T-xbthUrGxUr"
      }
    },
    {
      "cell_type": "code",
      "source": [
        "def coba_fungsi6(*args): #args = mendefinisikan scr keseluruhan\n",
        "  print(args)"
      ],
      "metadata": {
        "id": "ySBjDg2cGzXz"
      },
      "execution_count": null,
      "outputs": []
    },
    {
      "cell_type": "code",
      "source": [
        "coba_fungsi6(\"apple\", \"banana\", \"cherry\", \"semangka\")"
      ],
      "metadata": {
        "colab": {
          "base_uri": "https://localhost:8080/"
        },
        "id": "Z9P2OVKTG3pf",
        "outputId": "d7c8e33d-a449-400e-e9a5-ffd16eb1f680"
      },
      "execution_count": null,
      "outputs": [
        {
          "output_type": "stream",
          "name": "stdout",
          "text": [
            "('apple', 'banana', 'cherry', 'semangka')\n"
          ]
        }
      ]
    },
    {
      "cell_type": "code",
      "source": [
        "def coba_fungsi7(*args):\n",
        "  for y in args:\n",
        "    x = y\n",
        "    print(x)\n",
        "\n",
        "\n",
        "coba_fungsi7(\"apple\", \"banana\", \"cherry\")"
      ],
      "metadata": {
        "colab": {
          "base_uri": "https://localhost:8080/"
        },
        "id": "vOqKgtkrG5XX",
        "outputId": "4c8bcd7d-0c1b-4274-9ed8-fb334df559c8"
      },
      "execution_count": null,
      "outputs": [
        {
          "output_type": "stream",
          "name": "stdout",
          "text": [
            "apple\n",
            "banana\n",
            "cherry\n"
          ]
        }
      ]
    },
    {
      "cell_type": "code",
      "source": [
        "fruits = [\"apple\", \"banana\", \"cherry\"]\n",
        "\n",
        "def coba_fungsi8(*buah):\n",
        "  for item in buah:\n",
        "    for i in item:\n",
        "      print(i)\n",
        "\n",
        "\n",
        "coba_fungsi8(fruits)"
      ],
      "metadata": {
        "colab": {
          "base_uri": "https://localhost:8080/"
        },
        "id": "A4cbF9L7G6mv",
        "outputId": "b7287f0e-90ae-4e84-df4a-8820a69c2668"
      },
      "execution_count": null,
      "outputs": [
        {
          "output_type": "stream",
          "name": "stdout",
          "text": [
            "apple\n",
            "banana\n",
            "cherry\n"
          ]
        }
      ]
    },
    {
      "cell_type": "markdown",
      "source": [
        "### Fungsi dengan **kwargs"
      ],
      "metadata": {
        "id": "DHsUTBdEG8O9"
      }
    },
    {
      "cell_type": "markdown",
      "source": [
        "Untuk kargs menggunakan satu tanda bintang \"**\" Dapat diartikan bahwa def function(**kwargs) akan mengambil seluruh nilai dalam key dan valuenya yang ada dalam variabel.\n",
        "\n",
        "untuk tipe data yang memiliki key dan value aau dictionary\n"
      ],
      "metadata": {
        "id": "1Z43mjSlG8yZ"
      }
    },
    {
      "cell_type": "code",
      "source": [
        "def coba_fungsi9(**kwargs):\n",
        "  print(kwargs)"
      ],
      "metadata": {
        "id": "mx6iD6AqG-Za"
      },
      "execution_count": null,
      "outputs": []
    },
    {
      "cell_type": "code",
      "source": [
        "coba_fungsi9(item1 = \"apple\", item2 = \"banana\", item3 = \"cherry\")"
      ],
      "metadata": {
        "colab": {
          "base_uri": "https://localhost:8080/"
        },
        "id": "4YTKY6kQG_ti",
        "outputId": "8845b31c-461f-456a-fc86-6bdb9229c03e"
      },
      "execution_count": null,
      "outputs": [
        {
          "output_type": "stream",
          "name": "stdout",
          "text": [
            "{'item1': 'apple', 'item2': 'banana', 'item3': 'cherry'}\n"
          ]
        }
      ]
    },
    {
      "cell_type": "code",
      "source": [
        "def coba_fungsi10(**kwargs):\n",
        "  for key in kwargs:\n",
        "    print(key + \": \" + kwargs[key])\n",
        "\n",
        "\n",
        "coba_fungsi10(item1 = \"apple\", item2 = \"banana\", item3 = \"cherry\")"
      ],
      "metadata": {
        "colab": {
          "base_uri": "https://localhost:8080/"
        },
        "id": "Qpj-_cddHBKX",
        "outputId": "46e9aa4f-ec25-4855-b95c-87c82f406a8d"
      },
      "execution_count": null,
      "outputs": [
        {
          "output_type": "stream",
          "name": "stdout",
          "text": [
            "item1: apple\n",
            "item2: banana\n",
            "item3: cherry\n"
          ]
        }
      ]
    },
    {
      "cell_type": "code",
      "source": [
        "mahasiswa = {\"nama\": \"Dede\", \"jurusan\": \"IT\", \"semester\": \"5\"}\n",
        "\n",
        "def coba_fungsi11(**data_mhs):\n",
        "  for key in data_mhs:\n",
        "    print(key + \": \" + data_mhs[key])\n",
        "\n",
        "\n",
        "coba_fungsi11(**mahasiswa)"
      ],
      "metadata": {
        "colab": {
          "base_uri": "https://localhost:8080/"
        },
        "id": "d23aXcS9HDah",
        "outputId": "3e4e7883-3a73-4afb-fbc7-f8c3fe5b2568"
      },
      "execution_count": null,
      "outputs": [
        {
          "output_type": "stream",
          "name": "stdout",
          "text": [
            "nama: Dede\n",
            "jurusan: IT\n",
            "semester: 5\n"
          ]
        }
      ]
    },
    {
      "cell_type": "markdown",
      "source": [
        "## Nested Function (Closure)"
      ],
      "metadata": {
        "id": "tAYRIUljLwa1"
      }
    },
    {
      "cell_type": "code",
      "source": [
        "def hitung_rata_rata(nilai1, nilai2, nilai3):\n",
        "\n",
        "  def update_nilai():\n",
        "    update1 = nilai1 + 2\n",
        "    update2 = nilai2 + 3\n",
        "    update3 = nilai3 + 4\n",
        "    return update1, update2, update3\n",
        "\n",
        "  hasil = update_nilai()\n",
        "  return hasil\n"
      ],
      "metadata": {
        "id": "HwB5kjCOKWX1"
      },
      "execution_count": null,
      "outputs": []
    },
    {
      "cell_type": "code",
      "source": [
        "a = 5\n",
        "b = 10\n",
        "c = 15\n",
        "\n",
        "rata_rata = hitung_rata_rata(a, b, c)\n",
        "print(\"Hasil rata-rata: \", rata_rata)"
      ],
      "metadata": {
        "colab": {
          "base_uri": "https://localhost:8080/"
        },
        "id": "GH7vlrEFLTyN",
        "outputId": "28a9a70a-221e-4e9b-96c8-e5a1a8d47a6c"
      },
      "execution_count": null,
      "outputs": [
        {
          "output_type": "stream",
          "name": "stdout",
          "text": [
            "Hasil rata-rata:  (7, 13, 19)\n"
          ]
        }
      ]
    },
    {
      "cell_type": "markdown",
      "source": [
        "## Fungsi Default Parameter"
      ],
      "metadata": {
        "id": "g1iQ2Ra0MfVg"
      }
    },
    {
      "cell_type": "code",
      "source": [
        "def coba_fungsi12(nama, umur=20):\n",
        "  print(\"Nama: \", nama)\n",
        "  print(\"Umur: \", umur)\n",
        "\n",
        "coba_fungsi12(\"Dede\")"
      ],
      "metadata": {
        "colab": {
          "base_uri": "https://localhost:8080/"
        },
        "id": "DQXbLeKsMEDW",
        "outputId": "d4130895-74ca-427c-fb71-0a4465d180bb"
      },
      "execution_count": null,
      "outputs": [
        {
          "output_type": "stream",
          "name": "stdout",
          "text": [
            "Nama:  Dede\n",
            "Umur:  20\n"
          ]
        }
      ]
    },
    {
      "cell_type": "markdown",
      "source": [
        "## Fungsi Kombinasi Arguments"
      ],
      "metadata": {
        "id": "7DItXyZ3XOW6"
      }
    },
    {
      "cell_type": "code",
      "source": [
        "def coba_fungsi13(message, *params,  **others):\n",
        "    print(f\"message: {message}\")\n",
        "    print(f\"params: {params}\")\n",
        "    print(f\"others: {others}\")\n",
        "\n",
        "coba_fungsi13(\"hello world\", 1, True, (\"yesn't\", \"nope\"), say_something=\"how are you\", name=\"nokia 3310\", discontinued=True, year_released=2000)"
      ],
      "metadata": {
        "colab": {
          "base_uri": "https://localhost:8080/"
        },
        "id": "nOveo-LjWqQK",
        "outputId": "fef2e894-7d02-4bac-baa5-274409173e44"
      },
      "execution_count": null,
      "outputs": [
        {
          "output_type": "stream",
          "name": "stdout",
          "text": [
            "message: hello world\n",
            "params: (1, True, (\"yesn't\", 'nope'))\n",
            "others: {'say_something': 'how are you', 'name': 'nokia 3310', 'discontinued': True, 'year_released': 2000}\n"
          ]
        }
      ]
    },
    {
      "cell_type": "markdown",
      "source": [
        "## Fungsi dengan Matrix"
      ],
      "metadata": {
        "id": "ZA2lk1rPYXiw"
      }
    },
    {
      "cell_type": "code",
      "source": [
        "def coba_fungsi14(matrix=[]):\n",
        "    if len(matrix) == 0:\n",
        "        print(\"[]\")\n",
        "\n",
        "    for item in matrix:\n",
        "        print(item)\n"
      ],
      "metadata": {
        "id": "NVCQK8vdYZ7M"
      },
      "execution_count": null,
      "outputs": []
    },
    {
      "cell_type": "code",
      "source": [
        "print(\"Output matrix 1:\")\n",
        "coba_fungsi14()"
      ],
      "metadata": {
        "colab": {
          "base_uri": "https://localhost:8080/",
          "height": 176
        },
        "id": "uhlU5I5_Y5x5",
        "outputId": "e7c3676b-09dd-41b2-83ea-b47f81acaaad"
      },
      "execution_count": null,
      "outputs": [
        {
          "output_type": "stream",
          "name": "stdout",
          "text": [
            "Output matrix 1:\n"
          ]
        },
        {
          "output_type": "error",
          "ename": "NameError",
          "evalue": "name 'coba_fungsi14' is not defined",
          "traceback": [
            "\u001b[0;31m---------------------------------------------------------------------------\u001b[0m",
            "\u001b[0;31mNameError\u001b[0m                                 Traceback (most recent call last)",
            "\u001b[0;32m<ipython-input-12-6b3492942da4>\u001b[0m in \u001b[0;36m<cell line: 2>\u001b[0;34m()\u001b[0m\n\u001b[1;32m      1\u001b[0m \u001b[0mprint\u001b[0m\u001b[0;34m(\u001b[0m\u001b[0;34m\"Output matrix 1:\"\u001b[0m\u001b[0;34m)\u001b[0m\u001b[0;34m\u001b[0m\u001b[0;34m\u001b[0m\u001b[0m\n\u001b[0;32m----> 2\u001b[0;31m \u001b[0mcoba_fungsi14\u001b[0m\u001b[0;34m(\u001b[0m\u001b[0;34m)\u001b[0m\u001b[0;34m\u001b[0m\u001b[0;34m\u001b[0m\u001b[0m\n\u001b[0m",
            "\u001b[0;31mNameError\u001b[0m: name 'coba_fungsi14' is not defined"
          ]
        }
      ]
    },
    {
      "cell_type": "code",
      "source": [
        "print(\"Output matrix 2:\")\n",
        "coba_fungsi14([\n",
        "    [1, 2],\n",
        "    [5, 6],\n",
        "])"
      ],
      "metadata": {
        "colab": {
          "base_uri": "https://localhost:8080/"
        },
        "id": "6oskc_7xY_HO",
        "outputId": "85d341a3-631a-4cd5-fee5-1e73a0e83eac"
      },
      "execution_count": null,
      "outputs": [
        {
          "output_type": "stream",
          "name": "stdout",
          "text": [
            "Output matrix 2:\n",
            "[1, 2]\n",
            "[5, 6]\n"
          ]
        }
      ]
    },
    {
      "cell_type": "markdown",
      "source": [
        "## Fungsi dengan Agregator"
      ],
      "metadata": {
        "id": "Zxucez2dasqC"
      }
    },
    {
      "cell_type": "code",
      "source": [
        "def aggregate(perintah, nilai, action):\n",
        "    res = action(nilai)\n",
        "    print(\"Hasil agregate\", perintah, \":\", res)"
      ],
      "metadata": {
        "id": "t-P2wE7bcJkP"
      },
      "execution_count": null,
      "outputs": []
    },
    {
      "cell_type": "code",
      "source": [
        "aggregate(\"total\", [24, 67, 22, 98, 3, 50], sum)"
      ],
      "metadata": {
        "colab": {
          "base_uri": "https://localhost:8080/"
        },
        "id": "fRuXfpu1bEVE",
        "outputId": "ac7db5e9-b1cf-4936-d6e7-42e44af1b2dd"
      },
      "execution_count": null,
      "outputs": [
        {
          "output_type": "stream",
          "name": "stdout",
          "text": [
            "Hasil agregate total : 264\n"
          ]
        }
      ]
    },
    {
      "cell_type": "code",
      "source": [
        "aggregate(\"Max\", [24, 67, 22, 98, 3, 50], max)"
      ],
      "metadata": {
        "colab": {
          "base_uri": "https://localhost:8080/"
        },
        "id": "hJexc7AGcTRN",
        "outputId": "5ee1ec54-042c-478a-dcee-8d01d0f5de70"
      },
      "execution_count": null,
      "outputs": [
        {
          "output_type": "stream",
          "name": "stdout",
          "text": [
            "Hasil agregate Max : 98\n"
          ]
        }
      ]
    },
    {
      "cell_type": "code",
      "source": [
        "aggregate(\"Min\", [24, 67, 22, 98, 3, 50], min)"
      ],
      "metadata": {
        "colab": {
          "base_uri": "https://localhost:8080/"
        },
        "id": "kmDmzh2Vca4T",
        "outputId": "3157001e-2367-4081-bdca-95287cdb0b44"
      },
      "execution_count": null,
      "outputs": [
        {
          "output_type": "stream",
          "name": "stdout",
          "text": [
            "Hasil agregate Min : 3\n"
          ]
        }
      ]
    },
    {
      "cell_type": "markdown",
      "source": [
        "## Soal 1\n",
        "\n",
        "Buatlah script “kalkulator” yang terdiri dari dua parameter “x” dan “y” yang akan diisi angka dan parameter “operasi” yang akan diisi nama operasi seperti “penjumlahan”, “pengurangan”, “perkalian” dan “pembagian”\n",
        "\n",
        "Input:\n",
        "kalkulator(a = 10, b = 4, operasi = “penjumlahan”)\n",
        "\n",
        "Output:\n",
        "14\n"
      ],
      "metadata": {
        "id": "MI8_i6y0OZ94"
      }
    },
    {
      "cell_type": "markdown",
      "source": [
        "## Soal 2\n",
        "\n",
        "Buat lah 3 fungsi yang didalamnya terdapat :\n",
        "\n",
        "* conditional if\n",
        "* condition loop\n",
        "* args dan kwargs"
      ],
      "metadata": {
        "id": "xoubsJWOHHy-"
      }
    },
    {
      "cell_type": "markdown",
      "source": [
        "## Soal 3\n",
        "\n",
        "Fungsi dengan argument kenapa hasilnya 103?"
      ],
      "metadata": {
        "id": "yOk8VeDdHFkF"
      }
    }
  ]
}
