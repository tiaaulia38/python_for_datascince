{
  "cells": [
    {
      "cell_type": "markdown",
      "metadata": {
        "id": "view-in-github",
        "colab_type": "text"
      },
      "source": [
        "<a href=\"https://colab.research.google.com/github/tiaaulia38/python_for_datascince/blob/main/Copy_of_Functional_Programming.ipynb\" target=\"_parent\"><img src=\"https://colab.research.google.com/assets/colab-badge.svg\" alt=\"Open In Colab\"/></a>"
      ]
    },
    {
      "cell_type": "markdown",
      "metadata": {
        "id": "fh8jKPh_c6KT"
      },
      "source": [
        "**@create By : Dede Brahma Arianto S.Kom., M.Kom**"
      ]
    },
    {
      "cell_type": "markdown",
      "metadata": {
        "id": "w0dV-gU9czZa"
      },
      "source": [
        "# Konsep Functional Programming"
      ]
    },
    {
      "cell_type": "markdown",
      "metadata": {
        "id": "xA0HxRw2hkDg"
      },
      "source": [
        "## Fungsi Sederhana"
      ]
    },
    {
      "cell_type": "code",
      "execution_count": null,
      "metadata": {
        "colab": {
          "base_uri": "https://localhost:8080/"
        },
        "id": "4sAy9O0GhmLv",
        "outputId": "1b8ca72c-fe4e-4f5c-980e-3d0964c8dcfc"
      },
      "outputs": [
        {
          "name": "stdout",
          "output_type": "stream",
          "text": [
            "Hasil pangkat:  9\n"
          ]
        }
      ],
      "source": [
        "def pangkat(x):\n",
        "  nilai = x ** 2\n",
        "  return nilai\n",
        "\n",
        "hasil = pangkat(3)\n",
        "print(\"Hasil pangkat: \", hasil)"
      ]
    },
    {
      "cell_type": "markdown",
      "metadata": {
        "id": "awXODAJvc4kY"
      },
      "source": [
        "## First Class Function"
      ]
    },
    {
      "cell_type": "code",
      "execution_count": null,
      "metadata": {
        "colab": {
          "base_uri": "https://localhost:8080/"
        },
        "id": "vvwKNZrqi2E1",
        "outputId": "860577be-eefc-48e7-d22c-2110b8598eac"
      },
      "outputs": [
        {
          "name": "stdout",
          "output_type": "stream",
          "text": [
            "Hasil pangkat:  8\n"
          ]
        }
      ],
      "source": [
        "#@title Function to a Variable\n",
        "\n",
        "def pangkat(x):\n",
        "    return x ** 3\n",
        "\n",
        "hasil = pangkat\n",
        "\n",
        "print(\"Hasil pangkat: \", hasil(2))"
      ]
    },
    {
      "cell_type": "code",
      "execution_count": null,
      "metadata": {
        "colab": {
          "base_uri": "https://localhost:8080/"
        },
        "id": "T4Yjo2cqcujB",
        "outputId": "5bdae1fa-e799-4c1d-888f-4cf3550309a6"
      },
      "outputs": [
        {
          "name": "stdout",
          "output_type": "stream",
          "text": [
            "Hasil operasi pangkat:  25\n"
          ]
        }
      ],
      "source": [
        "#@title Function as an Argument\n",
        "\n",
        "def operasi_pangkat(func, a, b):\n",
        "  return func(a) + func(b)\n",
        "\n",
        "def pangkat(x):\n",
        "  return x ** 2\n",
        "\n",
        "hasil = operasi_pangkat(pangkat, 3, 4)\n",
        "print(\"Hasil operasi pangkat: \", hasil)"
      ]
    },
    {
      "cell_type": "code",
      "execution_count": null,
      "metadata": {
        "colab": {
          "background_save": true,
          "base_uri": "https://localhost:8080/"
        },
        "id": "xC0vBJ3HkjzH",
        "outputId": "58074874-7a2b-4eef-f490-0b673b9c12cf"
      },
      "outputs": [
        {
          "ename": "TypeError",
          "evalue": "'NoneType' object is not callable",
          "output_type": "error",
          "traceback": [
            "\u001b[0;31m---------------------------------------------------------------------------\u001b[0m",
            "\u001b[0;31mTypeError\u001b[0m                                 Traceback (most recent call last)",
            "\u001b[0;32m<ipython-input-1-1722fe1adcf1>\u001b[0m in \u001b[0;36m<cell line: 16>\u001b[0;34m()\u001b[0m\n\u001b[1;32m     14\u001b[0m \u001b[0mobj_kurang\u001b[0m \u001b[0;34m=\u001b[0m \u001b[0moperasi_hitung\u001b[0m\u001b[0;34m(\u001b[0m\u001b[0;34m'-'\u001b[0m\u001b[0;34m)\u001b[0m\u001b[0;34m\u001b[0m\u001b[0;34m\u001b[0m\u001b[0m\n\u001b[1;32m     15\u001b[0m \u001b[0;34m\u001b[0m\u001b[0m\n\u001b[0;32m---> 16\u001b[0;31m \u001b[0mprint\u001b[0m\u001b[0;34m(\u001b[0m\u001b[0;34m\"Hasil operasi tambah: \"\u001b[0m\u001b[0;34m,\u001b[0m \u001b[0mobj_tambah\u001b[0m\u001b[0;34m(\u001b[0m\u001b[0;36m5\u001b[0m\u001b[0;34m,\u001b[0m \u001b[0;36m3\u001b[0m\u001b[0;34m)\u001b[0m\u001b[0;34m)\u001b[0m\u001b[0;34m\u001b[0m\u001b[0;34m\u001b[0m\u001b[0m\n\u001b[0m\u001b[1;32m     17\u001b[0m \u001b[0mprint\u001b[0m\u001b[0;34m(\u001b[0m\u001b[0;34m\"Hasil operasi kurang: \"\u001b[0m\u001b[0;34m,\u001b[0m \u001b[0mobj_kurang\u001b[0m\u001b[0;34m(\u001b[0m\u001b[0;36m10\u001b[0m\u001b[0;34m,\u001b[0m \u001b[0;36m4\u001b[0m\u001b[0;34m)\u001b[0m\u001b[0;34m)\u001b[0m\u001b[0;34m\u001b[0m\u001b[0;34m\u001b[0m\u001b[0m\n",
            "\u001b[0;31mTypeError\u001b[0m: 'NoneType' object is not callable"
          ]
        }
      ],
      "source": [
        "#@title Returning a Function as a Value\n",
        "\n",
        "def operasi_hitung(operation):\n",
        "  if operation == \"+\":\n",
        "    def tambah(x, y):\n",
        "      return x + y\n",
        "    return tambah\n",
        "  elif operation == '-':\n",
        "    def kurang(x, y):\n",
        "      return x - y\n",
        "    return kurang\n",
        "\n",
        "obj_tambah = operasi_hitung('+')\n",
        "obj_kurang = operasi_hitung('-')\n",
        "\n",
        "print(\"Hasil operasi tambah: \", obj_tambah(5, 3))\n",
        "print(\"Hasil operasi kurang: \", obj_kurang(10, 4))"
      ]
    },
    {
      "cell_type": "markdown",
      "metadata": {
        "id": "plfbLufdpTpw"
      },
      "source": [
        "## Lambda"
      ]
    },
    {
      "cell_type": "markdown",
      "metadata": {
        "id": "LbO5vEYFsIcO"
      },
      "source": [
        "![image.png](data:image/png;base64,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)"
      ]
    },
    {
      "cell_type": "code",
      "execution_count": null,
      "metadata": {
        "colab": {
          "base_uri": "https://localhost:8080/"
        },
        "id": "FY84HrWhpXOo",
        "outputId": "c9b90272-6b89-44f0-cc2e-a4cdca8a7f59"
      },
      "outputs": [
        {
          "name": "stdout",
          "output_type": "stream",
          "text": [
            "Hasil pangkat menggunakan def:  9\n",
            "Hasil pangkat menggunakan lambda:  9\n"
          ]
        }
      ],
      "source": [
        "#@title Lambda sederhana\n",
        "\n",
        "def pangkat(x):\n",
        "  return x ** 2\n",
        "\n",
        "print(\"Hasil pangkat menggunakan def: \", pangkat(3))\n",
        "\n",
        "\n",
        "hasil_lambda = lambda z : z ** 2\n",
        "print(\"Hasil pangkat menggunakan lambda: \", hasil_lambda(3))"
      ]
    },
    {
      "cell_type": "code",
      "execution_count": null,
      "metadata": {
        "colab": {
          "base_uri": "https://localhost:8080/"
        },
        "id": "04e6CEUWp969",
        "outputId": "2aa0b936-9916-42b6-d38c-885a24bdddcd"
      },
      "outputs": [
        {
          "name": "stdout",
          "output_type": "stream",
          "text": [
            "Hasil pangkat menggunakan lambda:  8\n"
          ]
        }
      ],
      "source": [
        "hasil_lambda = lambda x, y : x + y\n",
        "print(\"Hasil pangkat menggunakan lambda: \", hasil_lambda(3, 5))"
      ]
    },
    {
      "cell_type": "code",
      "execution_count": null,
      "metadata": {
        "colab": {
          "base_uri": "https://localhost:8080/"
        },
        "id": "ulMn1BBM0g8T",
        "outputId": "f9ffadee-cecd-4b01-f372-cd84237447fc"
      },
      "outputs": [
        {
          "name": "stdout",
          "output_type": "stream",
          "text": [
            "10\n",
            "20\n",
            "30\n",
            "40\n"
          ]
        }
      ],
      "source": [
        "#@title Lambda with List Comprehension\n",
        "\n",
        "list1 = [lambda x=y : x * 10 for y in range(1, 5)]\n",
        "for item in list1:\n",
        "    print(item())"
      ]
    },
    {
      "cell_type": "code",
      "execution_count": null,
      "metadata": {
        "colab": {
          "base_uri": "https://localhost:8080/"
        },
        "id": "O6MTZOvF17li",
        "outputId": "c6ca81df-f3b8-4687-a29b-31146d177609"
      },
      "outputs": [
        {
          "name": "stdout",
          "output_type": "stream",
          "text": [
            "40\n"
          ]
        }
      ],
      "source": [
        "#@title Lambda with if-else\n",
        "\n",
        "hasil = lambda nilai_a, nilai_b : nilai_a if(nilai_a > nilai_b) else nilai_b\n",
        "print(hasil(40, 20))"
      ]
    },
    {
      "cell_type": "code",
      "execution_count": null,
      "metadata": {
        "colab": {
          "base_uri": "https://localhost:8080/"
        },
        "id": "omSG2BWNrIeT",
        "outputId": "938c4514-bfe6-4113-a5d7-ceec2c1e12c7"
      },
      "outputs": [
        {
          "name": "stdout",
          "output_type": "stream",
          "text": [
            "Hasil lambda filter:  [2, 4, 6, 8, 10]\n"
          ]
        }
      ],
      "source": [
        "#@title Lambda with filter\n",
        "# filter(function, iterable)\n",
        "\n",
        "list2 = [1, 2, 3, 4, 5, 6, 7, 8, 9, 10]\n",
        "hasil = filter(lambda x: x % 2 == 0, list2)\n",
        "hasil = list(hasil)\n",
        "print(\"Hasil lambda filter: \", hasil)\n"
      ]
    },
    {
      "cell_type": "code",
      "execution_count": null,
      "metadata": {
        "colab": {
          "base_uri": "https://localhost:8080/"
        },
        "id": "NAWrgHJDrsuR",
        "outputId": "5cecb843-ccf8-4057-b7f5-1df5c027d57e"
      },
      "outputs": [
        {
          "name": "stdout",
          "output_type": "stream",
          "text": [
            "[90, 59, 21, 60]\n"
          ]
        }
      ],
      "source": [
        "list3 = [13, 90, 17, 59, 21, 60, 5]\n",
        "usia = list(filter(lambda age: age > 18, list3))\n",
        "\n",
        "print(usia)"
      ]
    },
    {
      "cell_type": "code",
      "execution_count": null,
      "metadata": {
        "colab": {
          "base_uri": "https://localhost:8080/"
        },
        "id": "K3WJ3hun2oJb",
        "outputId": "beb56f24-935a-4378-b1ff-b18cda61cee6"
      },
      "outputs": [
        {
          "name": "stdout",
          "output_type": "stream",
          "text": [
            "[10, 14, 44, 194, 108, 124, 154, 46, 146, 122]\n"
          ]
        }
      ],
      "source": [
        "#@title Lambda with map\n",
        "# map(function, iterable)\n",
        "\n",
        "list4 = [5, 7, 22, 97, 54, 62, 77, 23, 73, 61]\n",
        "\n",
        "hasil = list(map(lambda x: x*2, list4))\n",
        "print(hasil)"
      ]
    },
    {
      "cell_type": "code",
      "execution_count": null,
      "metadata": {
        "colab": {
          "base_uri": "https://localhost:8080/"
        },
        "id": "KLKM_Ot83Duk",
        "outputId": "357c1d34-2c4e-4d18-9411-c9ece28ee8e7"
      },
      "outputs": [
        {
          "name": "stdout",
          "output_type": "stream",
          "text": [
            "['DOG', 'CAT', 'PARROT', 'RABBIT']\n"
          ]
        }
      ],
      "source": [
        "hewan = ['dog', 'cat', 'parrot', 'rabbit']\n",
        "uppered_animals = list(map(lambda animal: animal.upper(), hewan))\n",
        "\n",
        "print(uppered_animals)"
      ]
    },
    {
      "cell_type": "code",
      "execution_count": null,
      "metadata": {
        "colab": {
          "base_uri": "https://localhost:8080/"
        },
        "id": "hx3sIeew3Ph9",
        "outputId": "2aff30bc-3181-42a3-d77a-16f3065787ce"
      },
      "outputs": [
        {
          "name": "stdout",
          "output_type": "stream",
          "text": [
            "193\n"
          ]
        }
      ],
      "source": [
        "#@title Lambda with reduce\n",
        "\n",
        "from functools import reduce\n",
        "\n",
        "list5 = [5, 8, 10, 20, 50, 100]\n",
        "total = reduce((lambda x, y: x + y), list5)\n",
        "print(total)"
      ]
    },
    {
      "cell_type": "markdown",
      "metadata": {
        "id": "bAoC7Kx93yS_"
      },
      "source": [
        "hasil total diatas adalah:\n",
        "\n",
        "**(((((5+8)+10)+20)+50)+100) = 193**"
      ]
    },
    {
      "cell_type": "markdown",
      "metadata": {
        "id": "oyyyF0ozG3YG"
      },
      "source": [
        "## Recursion"
      ]
    },
    {
      "cell_type": "markdown",
      "metadata": {
        "id": "-8kWWYlcJ_pz"
      },
      "source": [
        "![image.png](data:image/png;base64,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)"
      ]
    },
    {
      "cell_type": "code",
      "execution_count": null,
      "metadata": {
        "colab": {
          "base_uri": "https://localhost:8080/",
          "height": 1000
        },
        "id": "qIosQNSrG4u3",
        "outputId": "5ff98629-17a3-4fe1-fe70-295e697c836d"
      },
      "outputs": [
        {
          "name": "stdout",
          "output_type": "stream",
          "text": [
            "Halo dunia!\n",
            "Halo dunia!\n",
            "Halo dunia!\n",
            "Halo dunia!\n",
            "Halo dunia!\n",
            "Halo dunia!\n",
            "Halo dunia!\n",
            "Halo dunia!\n",
            "Halo dunia!\n",
            "Halo dunia!\n",
            "Halo dunia!\n",
            "Halo dunia!\n",
            "Halo dunia!\n",
            "Halo dunia!\n",
            "Halo dunia!\n",
            "Halo dunia!\n",
            "Halo dunia!\n",
            "Halo dunia!\n",
            "Halo dunia!\n",
            "Halo dunia!\n",
            "Halo dunia!\n",
            "Halo dunia!\n",
            "Halo dunia!\n",
            "Halo dunia!\n",
            "Halo dunia!\n",
            "Halo dunia!\n",
            "Halo dunia!\n",
            "Halo dunia!\n",
            "Halo dunia!\n",
            "Halo dunia!\n",
            "Halo dunia!\n",
            "Halo dunia!\n",
            "Halo dunia!\n",
            "Halo dunia!\n",
            "Halo dunia!\n",
            "Halo dunia!\n",
            "Halo dunia!\n",
            "Halo dunia!\n",
            "Halo dunia!\n",
            "Halo dunia!\n",
            "Halo dunia!\n",
            "Halo dunia!\n",
            "Halo dunia!\n",
            "Halo dunia!\n",
            "Halo dunia!\n",
            "Halo dunia!\n",
            "Halo dunia!\n",
            "Halo dunia!\n",
            "Halo dunia!\n",
            "Halo dunia!\n",
            "Halo dunia!\n",
            "Halo dunia!\n",
            "Halo dunia!\n",
            "Halo dunia!\n",
            "Halo dunia!\n",
            "Halo dunia!\n",
            "Halo dunia!\n",
            "Halo dunia!\n",
            "Halo dunia!\n",
            "Halo dunia!\n",
            "Halo dunia!\n",
            "Halo dunia!\n",
            "Halo dunia!\n",
            "Halo dunia!\n",
            "Halo dunia!\n",
            "Halo dunia!\n",
            "Halo dunia!\n",
            "Halo dunia!\n",
            "Halo dunia!\n",
            "Halo dunia!\n",
            "Halo dunia!\n",
            "Halo dunia!\n",
            "Halo dunia!\n",
            "Halo dunia!\n",
            "Halo dunia!\n",
            "Halo dunia!\n",
            "Halo dunia!\n",
            "Halo dunia!\n",
            "Halo dunia!\n",
            "Halo dunia!\n",
            "Halo dunia!\n",
            "Halo dunia!\n",
            "Halo dunia!\n",
            "Halo dunia!\n",
            "Halo dunia!\n",
            "Halo dunia!\n",
            "Halo dunia!\n",
            "Halo dunia!\n",
            "Halo dunia!\n",
            "Halo dunia!\n",
            "Halo dunia!\n",
            "Halo dunia!\n",
            "Halo dunia!\n",
            "Halo dunia!\n",
            "Halo dunia!\n",
            "Halo dunia!\n",
            "Halo dunia!\n",
            "Halo dunia!\n",
            "Halo dunia!\n",
            "Halo dunia!\n",
            "Halo dunia!\n",
            "Halo dunia!\n",
            "Halo dunia!\n",
            "Halo dunia!\n",
            "Halo dunia!\n",
            "Halo dunia!\n",
            "Halo dunia!\n",
            "Halo dunia!\n",
            "Halo dunia!\n",
            "Halo dunia!\n",
            "Halo dunia!\n",
            "Halo dunia!\n",
            "Halo dunia!\n",
            "Halo dunia!\n",
            "Halo dunia!\n",
            "Halo dunia!\n",
            "Halo dunia!\n",
            "Halo dunia!\n",
            "Halo dunia!\n",
            "Halo dunia!\n",
            "Halo dunia!\n",
            "Halo dunia!\n",
            "Halo dunia!\n",
            "Halo dunia!\n",
            "Halo dunia!\n",
            "Halo dunia!\n",
            "Halo dunia!\n",
            "Halo dunia!\n",
            "Halo dunia!\n",
            "Halo dunia!\n",
            "Halo dunia!\n",
            "Halo dunia!\n",
            "Halo dunia!\n",
            "Halo dunia!\n",
            "Halo dunia!\n",
            "Halo dunia!\n",
            "Halo dunia!\n",
            "Halo dunia!\n",
            "Halo dunia!\n",
            "Halo dunia!\n",
            "Halo dunia!\n",
            "Halo dunia!\n",
            "Halo dunia!\n",
            "Halo dunia!\n",
            "Halo dunia!\n",
            "Halo dunia!\n",
            "Halo dunia!\n",
            "Halo dunia!\n",
            "Halo dunia!\n",
            "Halo dunia!\n",
            "Halo dunia!\n",
            "Halo dunia!\n",
            "Halo dunia!\n",
            "Halo dunia!\n",
            "Halo dunia!\n",
            "Halo dunia!\n",
            "Halo dunia!\n",
            "Halo dunia!\n",
            "Halo dunia!\n",
            "Halo dunia!\n",
            "Halo dunia!\n",
            "Halo dunia!\n",
            "Halo dunia!\n",
            "Halo dunia!\n",
            "Halo dunia!\n",
            "Halo dunia!\n",
            "Halo dunia!\n",
            "Halo dunia!\n",
            "Halo dunia!\n",
            "Halo dunia!\n",
            "Halo dunia!\n",
            "Halo dunia!\n",
            "Halo dunia!\n",
            "Halo dunia!\n",
            "Halo dunia!\n",
            "Halo dunia!\n",
            "Halo dunia!\n",
            "Halo dunia!\n",
            "Halo dunia!\n",
            "Halo dunia!\n",
            "Halo dunia!\n",
            "Halo dunia!\n",
            "Halo dunia!\n",
            "Halo dunia!\n",
            "Halo dunia!\n",
            "Halo dunia!\n",
            "Halo dunia!\n",
            "Halo dunia!\n",
            "Halo dunia!\n",
            "Halo dunia!\n",
            "Halo dunia!\n",
            "Halo dunia!\n",
            "Halo dunia!\n",
            "Halo dunia!\n",
            "Halo dunia!\n",
            "Halo dunia!\n",
            "Halo dunia!\n",
            "Halo dunia!\n",
            "Halo dunia!\n",
            "Halo dunia!\n",
            "Halo dunia!\n",
            "Halo dunia!\n",
            "Halo dunia!\n",
            "Halo dunia!\n",
            "Halo dunia!\n",
            "Halo dunia!\n",
            "Halo dunia!\n",
            "Halo dunia!\n",
            "Halo dunia!\n",
            "Halo dunia!\n",
            "Halo dunia!\n",
            "Halo dunia!\n",
            "Halo dunia!\n",
            "Halo dunia!\n",
            "Halo dunia!\n",
            "Halo dunia!\n",
            "Halo dunia!\n",
            "Halo dunia!\n",
            "Halo dunia!\n",
            "Halo dunia!\n",
            "Halo dunia!\n",
            "Halo dunia!\n",
            "Halo dunia!\n",
            "Halo dunia!\n",
            "Halo dunia!\n",
            "Halo dunia!\n",
            "Halo dunia!\n",
            "Halo dunia!\n",
            "Halo dunia!\n",
            "Halo dunia!\n",
            "Halo dunia!\n",
            "Halo dunia!\n",
            "Halo dunia!\n",
            "Halo dunia!\n",
            "Halo dunia!\n",
            "Halo dunia!\n",
            "Halo dunia!\n",
            "Halo dunia!\n",
            "Halo dunia!\n",
            "Halo dunia!\n",
            "Halo dunia!\n",
            "Halo dunia!\n",
            "Halo dunia!\n",
            "Halo dunia!\n",
            "Halo dunia!\n",
            "Halo dunia!\n",
            "Halo dunia!\n",
            "Halo dunia!\n",
            "Halo dunia!\n",
            "Halo dunia!\n",
            "Halo dunia!\n",
            "Halo dunia!\n",
            "Halo dunia!\n",
            "Halo dunia!\n",
            "Halo dunia!\n",
            "Halo dunia!\n",
            "Halo dunia!\n",
            "Halo dunia!\n",
            "Halo dunia!\n",
            "Halo dunia!\n",
            "Halo dunia!\n",
            "Halo dunia!\n",
            "Halo dunia!\n",
            "Halo dunia!\n",
            "Halo dunia!\n",
            "Halo dunia!\n",
            "Halo dunia!\n",
            "Halo dunia!\n",
            "Halo dunia!\n",
            "Halo dunia!\n",
            "Halo dunia!\n",
            "Halo dunia!\n",
            "Halo dunia!\n",
            "Halo dunia!\n",
            "Halo dunia!\n",
            "Halo dunia!\n",
            "Halo dunia!\n",
            "Halo dunia!\n",
            "Halo dunia!\n",
            "Halo dunia!\n",
            "Halo dunia!\n",
            "Halo dunia!\n",
            "Halo dunia!\n",
            "Halo dunia!\n",
            "Halo dunia!\n",
            "Halo dunia!\n",
            "Halo dunia!\n",
            "Halo dunia!\n",
            "Halo dunia!\n",
            "Halo dunia!\n",
            "Halo dunia!\n",
            "Halo dunia!\n",
            "Halo dunia!\n",
            "Halo dunia!\n",
            "Halo dunia!\n",
            "Halo dunia!\n",
            "Halo dunia!\n",
            "Halo dunia!\n",
            "Halo dunia!\n",
            "Halo dunia!\n",
            "Halo dunia!\n",
            "Halo dunia!\n",
            "Halo dunia!\n",
            "Halo dunia!\n",
            "Halo dunia!\n",
            "Halo dunia!\n",
            "Halo dunia!\n",
            "Halo dunia!\n",
            "Halo dunia!\n",
            "Halo dunia!\n",
            "Halo dunia!\n",
            "Halo dunia!\n",
            "Halo dunia!\n",
            "Halo dunia!\n",
            "Halo dunia!\n",
            "Halo dunia!\n",
            "Halo dunia!\n",
            "Halo dunia!\n",
            "Halo dunia!\n",
            "Halo dunia!\n",
            "Halo dunia!\n",
            "Halo dunia!\n",
            "Halo dunia!\n",
            "Halo dunia!\n",
            "Halo dunia!\n",
            "Halo dunia!\n",
            "Halo dunia!\n",
            "Halo dunia!\n",
            "Halo dunia!\n",
            "Halo dunia!\n",
            "Halo dunia!\n",
            "Halo dunia!\n",
            "Halo dunia!\n",
            "Halo dunia!\n",
            "Halo dunia!\n",
            "Halo dunia!\n",
            "Halo dunia!\n",
            "Halo dunia!\n",
            "Halo dunia!\n",
            "Halo dunia!\n",
            "Halo dunia!\n",
            "Halo dunia!\n",
            "Halo dunia!\n",
            "Halo dunia!\n",
            "Halo dunia!\n",
            "Halo dunia!\n",
            "Halo dunia!\n",
            "Halo dunia!\n",
            "Halo dunia!\n",
            "Halo dunia!\n",
            "Halo dunia!\n",
            "Halo dunia!\n",
            "Halo dunia!\n",
            "Halo dunia!\n",
            "Halo dunia!\n",
            "Halo dunia!\n",
            "Halo dunia!\n",
            "Halo dunia!\n",
            "Halo dunia!\n",
            "Halo dunia!\n",
            "Halo dunia!\n",
            "Halo dunia!\n",
            "Halo dunia!\n",
            "Halo dunia!\n",
            "Halo dunia!\n",
            "Halo dunia!\n",
            "Halo dunia!\n",
            "Halo dunia!\n",
            "Halo dunia!\n",
            "Halo dunia!\n",
            "Halo dunia!\n",
            "Halo dunia!\n",
            "Halo dunia!\n",
            "Halo dunia!\n",
            "Halo dunia!\n",
            "Halo dunia!\n",
            "Halo dunia!\n",
            "Halo dunia!\n",
            "Halo dunia!\n",
            "Halo dunia!\n",
            "Halo dunia!\n",
            "Halo dunia!\n",
            "Halo dunia!\n",
            "Halo dunia!\n",
            "Halo dunia!\n",
            "Halo dunia!\n",
            "Halo dunia!\n",
            "Halo dunia!\n",
            "Halo dunia!\n",
            "Halo dunia!\n",
            "Halo dunia!\n",
            "Halo dunia!\n",
            "Halo dunia!\n",
            "Halo dunia!\n",
            "Halo dunia!\n",
            "Halo dunia!\n",
            "Halo dunia!\n",
            "Halo dunia!\n",
            "Halo dunia!\n",
            "Halo dunia!\n",
            "Halo dunia!\n",
            "Halo dunia!\n",
            "Halo dunia!\n",
            "Halo dunia!\n",
            "Halo dunia!\n",
            "Halo dunia!\n",
            "Halo dunia!\n",
            "Halo dunia!\n",
            "Halo dunia!\n",
            "Halo dunia!\n",
            "Halo dunia!\n",
            "Halo dunia!\n",
            "Halo dunia!\n",
            "Halo dunia!\n",
            "Halo dunia!\n",
            "Halo dunia!\n",
            "Halo dunia!\n",
            "Halo dunia!\n",
            "Halo dunia!\n",
            "Halo dunia!\n",
            "Halo dunia!\n",
            "Halo dunia!\n",
            "Halo dunia!\n",
            "Halo dunia!\n",
            "Halo dunia!\n",
            "Halo dunia!\n",
            "Halo dunia!\n",
            "Halo dunia!\n",
            "Halo dunia!\n",
            "Halo dunia!\n",
            "Halo dunia!\n",
            "Halo dunia!\n",
            "Halo dunia!\n",
            "Halo dunia!\n",
            "Halo dunia!\n",
            "Halo dunia!\n",
            "Halo dunia!\n",
            "Halo dunia!\n",
            "Halo dunia!\n",
            "Halo dunia!\n",
            "Halo dunia!\n",
            "Halo dunia!\n",
            "Halo dunia!\n",
            "Halo dunia!\n",
            "Halo dunia!\n",
            "Halo dunia!\n",
            "Halo dunia!\n",
            "Halo dunia!\n",
            "Halo dunia!\n",
            "Halo dunia!\n",
            "Halo dunia!\n",
            "Halo dunia!\n",
            "Halo dunia!\n",
            "Halo dunia!\n",
            "Halo dunia!\n",
            "Halo dunia!\n",
            "Halo dunia!\n",
            "Halo dunia!\n",
            "Halo dunia!\n",
            "Halo dunia!\n",
            "Halo dunia!\n",
            "Halo dunia!\n",
            "Halo dunia!\n",
            "Halo dunia!\n",
            "Halo dunia!\n",
            "Halo dunia!\n",
            "Halo dunia!\n",
            "Halo dunia!\n",
            "Halo dunia!\n",
            "Halo dunia!\n",
            "Halo dunia!\n",
            "Halo dunia!\n",
            "Halo dunia!\n",
            "Halo dunia!\n",
            "Halo dunia!\n",
            "Halo dunia!\n",
            "Halo dunia!\n",
            "Halo dunia!\n",
            "Halo dunia!\n",
            "Halo dunia!\n",
            "Halo dunia!\n",
            "Halo dunia!\n",
            "Halo dunia!\n",
            "Halo dunia!\n",
            "Halo dunia!\n",
            "Halo dunia!\n",
            "Halo dunia!\n",
            "Halo dunia!\n",
            "Halo dunia!\n",
            "Halo dunia!\n",
            "Halo dunia!\n",
            "Halo dunia!\n",
            "Halo dunia!\n",
            "Halo dunia!\n",
            "Halo dunia!\n",
            "Halo dunia!\n",
            "Halo dunia!\n",
            "Halo dunia!\n",
            "Halo dunia!\n",
            "Halo dunia!\n",
            "Halo dunia!\n",
            "Halo dunia!\n",
            "Halo dunia!\n",
            "Halo dunia!\n",
            "Halo dunia!\n",
            "Halo dunia!\n",
            "Halo dunia!\n",
            "Halo dunia!\n",
            "Halo dunia!\n",
            "Halo dunia!\n",
            "Halo dunia!\n",
            "Halo dunia!\n",
            "Halo dunia!\n",
            "Halo dunia!\n",
            "Halo dunia!\n",
            "Halo dunia!\n",
            "Halo dunia!\n",
            "Halo dunia!\n",
            "Halo dunia!\n",
            "Halo dunia!\n",
            "Halo dunia!\n",
            "Halo dunia!\n",
            "Halo dunia!\n",
            "Halo dunia!\n",
            "Halo dunia!\n",
            "Halo dunia!\n",
            "Halo dunia!\n",
            "Halo dunia!\n",
            "Halo dunia!\n",
            "Halo dunia!\n",
            "Halo dunia!\n",
            "Halo dunia!\n",
            "Halo dunia!\n",
            "Halo dunia!\n",
            "Halo dunia!\n",
            "Halo dunia!\n",
            "Halo dunia!\n",
            "Halo dunia!\n",
            "Halo dunia!\n",
            "Halo dunia!\n",
            "Halo dunia!\n",
            "Halo dunia!\n",
            "Halo dunia!\n",
            "Halo dunia!\n",
            "Halo dunia!\n",
            "Halo dunia!\n",
            "Halo dunia!\n",
            "Halo dunia!\n",
            "Halo dunia!\n",
            "Halo dunia!\n",
            "Halo dunia!\n",
            "Halo dunia!\n",
            "Halo dunia!\n",
            "Halo dunia!\n",
            "Halo dunia!\n",
            "Halo dunia!\n",
            "Halo dunia!\n",
            "Halo dunia!\n",
            "Halo dunia!\n",
            "Halo dunia!\n",
            "Halo dunia!\n",
            "Halo dunia!\n",
            "Halo dunia!\n",
            "Halo dunia!\n",
            "Halo dunia!\n",
            "Halo dunia!\n",
            "Halo dunia!\n",
            "Halo dunia!\n",
            "Halo dunia!\n",
            "Halo dunia!\n",
            "Halo dunia!\n",
            "Halo dunia!\n",
            "Halo dunia!\n",
            "Halo dunia!\n",
            "Halo dunia!\n",
            "Halo dunia!\n",
            "Halo dunia!\n",
            "Halo dunia!\n",
            "Halo dunia!\n",
            "Halo dunia!\n",
            "Halo dunia!\n",
            "Halo dunia!\n",
            "Halo dunia!\n",
            "Halo dunia!\n",
            "Halo dunia!\n",
            "Halo dunia!\n",
            "Halo dunia!\n",
            "Halo dunia!\n",
            "Halo dunia!\n",
            "Halo dunia!\n",
            "Halo dunia!\n",
            "Halo dunia!\n",
            "Halo dunia!\n",
            "Halo dunia!\n",
            "Halo dunia!\n",
            "Halo dunia!\n",
            "Halo dunia!\n",
            "Halo dunia!\n",
            "Halo dunia!\n",
            "Halo dunia!\n",
            "Halo dunia!\n",
            "Halo dunia!\n",
            "Halo dunia!\n",
            "Halo dunia!\n",
            "Halo dunia!\n",
            "Halo dunia!\n",
            "Halo dunia!\n",
            "Halo dunia!\n",
            "Halo dunia!\n",
            "Halo dunia!\n",
            "Halo dunia!\n",
            "Halo dunia!\n",
            "Halo dunia!\n",
            "Halo dunia!\n",
            "Halo dunia!\n",
            "Halo dunia!\n",
            "Halo dunia!\n",
            "Halo dunia!\n",
            "Halo dunia!\n",
            "Halo dunia!\n",
            "Halo dunia!\n",
            "Halo dunia!\n",
            "Halo dunia!\n",
            "Halo dunia!\n",
            "Halo dunia!\n",
            "Halo dunia!\n",
            "Halo dunia!\n",
            "Halo dunia!\n",
            "Halo dunia!\n",
            "Halo dunia!\n",
            "Halo dunia!\n",
            "Halo dunia!\n",
            "Halo dunia!\n",
            "Halo dunia!\n",
            "Halo dunia!\n",
            "Halo dunia!\n",
            "Halo dunia!\n",
            "Halo dunia!\n",
            "Halo dunia!\n",
            "Halo dunia!\n",
            "Halo dunia!\n",
            "Halo dunia!\n",
            "Halo dunia!\n",
            "Halo dunia!\n",
            "Halo dunia!\n",
            "Halo dunia!\n",
            "Halo dunia!\n",
            "Halo dunia!\n",
            "Halo dunia!\n",
            "Halo dunia!\n",
            "Halo dunia!\n",
            "Halo dunia!\n",
            "Halo dunia!\n",
            "Halo dunia!\n",
            "Halo dunia!\n",
            "Halo dunia!\n",
            "Halo dunia!\n",
            "Halo dunia!\n",
            "Halo dunia!\n",
            "Halo dunia!\n",
            "Halo dunia!\n",
            "Halo dunia!\n",
            "Halo dunia!\n",
            "Halo dunia!\n",
            "Halo dunia!\n",
            "Halo dunia!\n",
            "Halo dunia!\n",
            "Halo dunia!\n",
            "Halo dunia!\n",
            "Halo dunia!\n",
            "Halo dunia!\n",
            "Halo dunia!\n",
            "Halo dunia!\n",
            "Halo dunia!\n",
            "Halo dunia!\n",
            "Halo dunia!\n",
            "Halo dunia!\n",
            "Halo dunia!\n",
            "Halo dunia!\n",
            "Halo dunia!\n",
            "Halo dunia!\n",
            "Halo dunia!\n",
            "Halo dunia!\n",
            "Halo dunia!\n",
            "Halo dunia!\n",
            "Halo dunia!\n",
            "Halo dunia!\n",
            "Halo dunia!\n",
            "Halo dunia!\n",
            "Halo dunia!\n",
            "Halo dunia!\n",
            "Halo dunia!\n",
            "Halo dunia!\n",
            "Halo dunia!\n",
            "Halo dunia!\n",
            "Halo dunia!\n",
            "Halo dunia!\n",
            "Halo dunia!\n",
            "Halo dunia!\n",
            "Halo dunia!\n",
            "Halo dunia!\n",
            "Halo dunia!\n",
            "Halo dunia!\n",
            "Halo dunia!\n",
            "Halo dunia!\n",
            "Halo dunia!\n",
            "Halo dunia!\n",
            "Halo dunia!\n",
            "Halo dunia!\n",
            "Halo dunia!\n",
            "Halo dunia!\n",
            "Halo dunia!\n",
            "Halo dunia!\n",
            "Halo dunia!\n",
            "Halo dunia!\n",
            "Halo dunia!\n",
            "Halo dunia!\n",
            "Halo dunia!\n",
            "Halo dunia!\n",
            "Halo dunia!\n",
            "Halo dunia!\n",
            "Halo dunia!\n",
            "Halo dunia!\n",
            "Halo dunia!\n",
            "Halo dunia!\n",
            "Halo dunia!\n",
            "Halo dunia!\n",
            "Halo dunia!\n",
            "Halo dunia!\n",
            "Halo dunia!\n",
            "Halo dunia!\n",
            "Halo dunia!\n",
            "Halo dunia!\n",
            "Halo dunia!\n",
            "Halo dunia!\n",
            "Halo dunia!\n",
            "Halo dunia!\n",
            "Halo dunia!\n",
            "Halo dunia!\n",
            "Halo dunia!\n",
            "Halo dunia!\n",
            "Halo dunia!\n",
            "Halo dunia!\n",
            "Halo dunia!\n",
            "Halo dunia!\n",
            "Halo dunia!\n",
            "Halo dunia!\n",
            "Halo dunia!\n",
            "Halo dunia!\n",
            "Halo dunia!\n",
            "Halo dunia!\n",
            "Halo dunia!\n",
            "Halo dunia!\n",
            "Halo dunia!\n",
            "Halo dunia!\n",
            "Halo dunia!\n",
            "Halo dunia!\n",
            "Halo dunia!\n",
            "Halo dunia!\n",
            "Halo dunia!\n",
            "Halo dunia!\n",
            "Halo dunia!\n",
            "Halo dunia!\n",
            "Halo dunia!\n",
            "Halo dunia!\n",
            "Halo dunia!\n",
            "Halo dunia!\n",
            "Halo dunia!\n",
            "Halo dunia!\n",
            "Halo dunia!\n",
            "Halo dunia!\n",
            "Halo dunia!\n",
            "Halo dunia!\n",
            "Halo dunia!\n",
            "Halo dunia!\n",
            "Halo dunia!\n",
            "Halo dunia!\n",
            "Halo dunia!\n",
            "Halo dunia!\n",
            "Halo dunia!\n",
            "Halo dunia!\n",
            "Halo dunia!\n",
            "Halo dunia!\n",
            "Halo dunia!\n",
            "Halo dunia!\n",
            "Halo dunia!\n",
            "Halo dunia!\n",
            "Halo dunia!\n",
            "Halo dunia!\n",
            "Halo dunia!\n",
            "Halo dunia!\n",
            "Halo dunia!\n",
            "Halo dunia!\n",
            "Halo dunia!\n",
            "Halo dunia!\n",
            "Halo dunia!\n",
            "Halo dunia!\n",
            "Halo dunia!\n",
            "Halo dunia!\n",
            "Halo dunia!\n",
            "Halo dunia!\n",
            "Halo dunia!\n",
            "Halo dunia!\n",
            "Halo dunia!\n",
            "Halo dunia!\n",
            "Halo dunia!\n",
            "Halo dunia!\n",
            "Halo dunia!\n",
            "Halo dunia!\n",
            "Halo dunia!\n",
            "Halo dunia!\n",
            "Halo dunia!\n",
            "Halo dunia!\n",
            "Halo dunia!\n",
            "Halo dunia!\n",
            "Halo dunia!\n",
            "Halo dunia!\n",
            "Halo dunia!\n",
            "Halo dunia!\n",
            "Halo dunia!\n",
            "Halo dunia!\n",
            "Halo dunia!\n",
            "Halo dunia!\n",
            "Halo dunia!\n",
            "Halo dunia!\n",
            "Halo dunia!\n",
            "Halo dunia!\n",
            "Halo dunia!\n",
            "Halo dunia!\n",
            "Halo dunia!\n",
            "Halo dunia!\n",
            "Halo dunia!\n",
            "Halo dunia!\n",
            "Halo dunia!\n",
            "Halo dunia!\n",
            "Halo dunia!\n",
            "Halo dunia!\n",
            "Halo dunia!\n",
            "Halo dunia!\n",
            "Halo dunia!\n",
            "Halo dunia!\n",
            "Halo dunia!\n",
            "Halo dunia!\n",
            "Halo dunia!\n",
            "Halo dunia!\n",
            "Halo dunia!\n",
            "Halo dunia!\n",
            "Halo dunia!\n",
            "Halo dunia!\n",
            "Halo dunia!\n",
            "Halo dunia!\n",
            "Halo dunia!\n",
            "Halo dunia!\n",
            "Halo dunia!\n",
            "Halo dunia!\n",
            "Halo dunia!\n",
            "Halo dunia!\n",
            "Halo dunia!\n",
            "Halo dunia!\n",
            "Halo dunia!\n",
            "Halo dunia!\n",
            "Halo dunia!\n",
            "Halo dunia!\n",
            "Halo dunia!\n",
            "Halo dunia!\n",
            "Halo dunia!\n",
            "Halo dunia!\n",
            "Halo dunia!\n",
            "Halo dunia!\n",
            "Halo dunia!\n",
            "Halo dunia!\n",
            "Halo dunia!\n",
            "Halo dunia!\n",
            "Halo dunia!\n",
            "Halo dunia!\n",
            "Halo dunia!\n",
            "Halo dunia!\n",
            "Halo dunia!\n",
            "Halo dunia!\n",
            "Halo dunia!\n",
            "Halo dunia!\n",
            "Halo dunia!\n",
            "Halo dunia!\n",
            "Halo dunia!\n",
            "Halo dunia!\n",
            "Halo dunia!\n",
            "Halo dunia!\n",
            "Halo dunia!\n",
            "Halo dunia!\n",
            "Halo dunia!\n",
            "Halo dunia!\n",
            "Halo dunia!\n",
            "Halo dunia!\n",
            "Halo dunia!\n",
            "Halo dunia!\n",
            "Halo dunia!\n",
            "Halo dunia!\n",
            "Halo dunia!\n",
            "Halo dunia!\n",
            "Halo dunia!\n",
            "Halo dunia!\n",
            "Halo dunia!\n",
            "Halo dunia!\n",
            "Halo dunia!\n",
            "Halo dunia!\n",
            "Halo dunia!\n",
            "Halo dunia!\n",
            "Halo dunia!\n",
            "Halo dunia!\n",
            "Halo dunia!\n",
            "Halo dunia!\n",
            "Halo dunia!\n",
            "Halo dunia!\n",
            "Halo dunia!\n",
            "Halo dunia!\n",
            "Halo dunia!\n",
            "Halo dunia!\n",
            "Halo dunia!\n",
            "Halo dunia!\n",
            "Halo dunia!\n",
            "Halo dunia!\n",
            "Halo dunia!\n",
            "Halo dunia!\n",
            "Halo dunia!\n",
            "Halo dunia!\n",
            "Halo dunia!\n",
            "Halo dunia!\n",
            "Halo dunia!\n",
            "Halo dunia!\n",
            "Halo dunia!\n",
            "Halo dunia!\n",
            "Halo dunia!\n",
            "Halo dunia!\n",
            "Halo dunia!\n",
            "Halo dunia!\n",
            "Halo dunia!\n",
            "Halo dunia!\n",
            "Halo dunia!\n",
            "Halo dunia!\n",
            "Halo dunia!\n",
            "Halo dunia!\n",
            "Halo dunia!\n",
            "Halo dunia!\n",
            "Halo dunia!\n",
            "Halo dunia!\n",
            "Halo dunia!\n",
            "Halo dunia!\n",
            "Halo dunia!\n",
            "Halo dunia!\n",
            "Halo dunia!\n",
            "Halo dunia!\n",
            "Halo dunia!\n",
            "Halo dunia!\n",
            "Halo dunia!\n"
          ]
        },
        {
          "ename": "RecursionError",
          "evalue": "maximum recursion depth exceeded while calling a Python object",
          "output_type": "error",
          "traceback": [
            "\u001b[0;31m---------------------------------------------------------------------------\u001b[0m",
            "\u001b[0;31mRecursionError\u001b[0m                            Traceback (most recent call last)",
            "\u001b[0;32m/usr/lib/python3.10/threading.py\u001b[0m in \u001b[0;36m_wait_for_tstate_lock\u001b[0;34m(self, block, timeout)\u001b[0m\n\u001b[1;32m   1115\u001b[0m         \u001b[0;32mtry\u001b[0m\u001b[0;34m:\u001b[0m\u001b[0;34m\u001b[0m\u001b[0;34m\u001b[0m\u001b[0m\n\u001b[0;32m-> 1116\u001b[0;31m             \u001b[0;32mif\u001b[0m \u001b[0mlock\u001b[0m\u001b[0;34m.\u001b[0m\u001b[0macquire\u001b[0m\u001b[0;34m(\u001b[0m\u001b[0mblock\u001b[0m\u001b[0;34m,\u001b[0m \u001b[0mtimeout\u001b[0m\u001b[0;34m)\u001b[0m\u001b[0;34m:\u001b[0m\u001b[0;34m\u001b[0m\u001b[0;34m\u001b[0m\u001b[0m\n\u001b[0m\u001b[1;32m   1117\u001b[0m                 \u001b[0mlock\u001b[0m\u001b[0;34m.\u001b[0m\u001b[0mrelease\u001b[0m\u001b[0;34m(\u001b[0m\u001b[0;34m)\u001b[0m\u001b[0;34m\u001b[0m\u001b[0;34m\u001b[0m\u001b[0m\n",
            "\u001b[0;31mRecursionError\u001b[0m: maximum recursion depth exceeded while calling a Python object",
            "\nDuring handling of the above exception, another exception occurred:\n",
            "\u001b[0;31mRecursionError\u001b[0m                            Traceback (most recent call last)",
            "\u001b[0;32m<ipython-input-1-ff95473f5392>\u001b[0m in \u001b[0;36m<cell line: 8>\u001b[0;34m()\u001b[0m\n\u001b[1;32m      6\u001b[0m \u001b[0;34m\u001b[0m\u001b[0m\n\u001b[1;32m      7\u001b[0m \u001b[0;31m# memanggil fungsi helo_dunia untuk pertama kali\u001b[0m\u001b[0;34m\u001b[0m\u001b[0;34m\u001b[0m\u001b[0m\n\u001b[0;32m----> 8\u001b[0;31m \u001b[0mfunc_halo\u001b[0m\u001b[0;34m(\u001b[0m\u001b[0;34m)\u001b[0m\u001b[0;34m\u001b[0m\u001b[0;34m\u001b[0m\u001b[0m\n\u001b[0m",
            "\u001b[0;32m<ipython-input-1-ff95473f5392>\u001b[0m in \u001b[0;36mfunc_halo\u001b[0;34m()\u001b[0m\n\u001b[1;32m      2\u001b[0m   \u001b[0mprint\u001b[0m\u001b[0;34m(\u001b[0m\u001b[0;34m'Halo dunia!'\u001b[0m\u001b[0;34m)\u001b[0m\u001b[0;34m\u001b[0m\u001b[0;34m\u001b[0m\u001b[0m\n\u001b[1;32m      3\u001b[0m   \u001b[0;31m# panggil dirinya sendiri\u001b[0m\u001b[0;34m\u001b[0m\u001b[0;34m\u001b[0m\u001b[0m\n\u001b[0;32m----> 4\u001b[0;31m   \u001b[0mfunc_halo\u001b[0m\u001b[0;34m(\u001b[0m\u001b[0;34m)\u001b[0m \u001b[0;31m# <-- recursion\u001b[0m\u001b[0;34m\u001b[0m\u001b[0;34m\u001b[0m\u001b[0m\n\u001b[0m\u001b[1;32m      5\u001b[0m \u001b[0;34m\u001b[0m\u001b[0m\n\u001b[1;32m      6\u001b[0m \u001b[0;34m\u001b[0m\u001b[0m\n",
            "... last 1 frames repeated, from the frame below ...\n",
            "\u001b[0;32m<ipython-input-1-ff95473f5392>\u001b[0m in \u001b[0;36mfunc_halo\u001b[0;34m()\u001b[0m\n\u001b[1;32m      2\u001b[0m   \u001b[0mprint\u001b[0m\u001b[0;34m(\u001b[0m\u001b[0;34m'Halo dunia!'\u001b[0m\u001b[0;34m)\u001b[0m\u001b[0;34m\u001b[0m\u001b[0;34m\u001b[0m\u001b[0m\n\u001b[1;32m      3\u001b[0m   \u001b[0;31m# panggil dirinya sendiri\u001b[0m\u001b[0;34m\u001b[0m\u001b[0;34m\u001b[0m\u001b[0m\n\u001b[0;32m----> 4\u001b[0;31m   \u001b[0mfunc_halo\u001b[0m\u001b[0;34m(\u001b[0m\u001b[0;34m)\u001b[0m \u001b[0;31m# <-- recursion\u001b[0m\u001b[0;34m\u001b[0m\u001b[0;34m\u001b[0m\u001b[0m\n\u001b[0m\u001b[1;32m      5\u001b[0m \u001b[0;34m\u001b[0m\u001b[0m\n\u001b[1;32m      6\u001b[0m \u001b[0;34m\u001b[0m\u001b[0m\n",
            "\u001b[0;31mRecursionError\u001b[0m: maximum recursion depth exceeded while calling a Python object"
          ]
        }
      ],
      "source": [
        "#@title Recursion always run\n",
        "\n",
        "def func_halo():\n",
        "  print('Halo dunia!')\n",
        "  # panggil dirinya sendiri\n",
        "  func_halo() # <-- recursion\n",
        "\n",
        "\n",
        "# memanggil fungsi helo_dunia untuk pertama kali\n",
        "func_halo()"
      ]
    },
    {
      "cell_type": "code",
      "execution_count": null,
      "metadata": {
        "colab": {
          "base_uri": "https://localhost:8080/"
        },
        "id": "xxfghyrNHZuw",
        "outputId": "7f8e5a06-c95d-4960-b2ed-99ca7bafbe1d"
      },
      "outputs": [
        {
          "name": "stdout",
          "output_type": "stream",
          "text": [
            "Perulangan ke 1\n",
            "Perulangan ke 2\n",
            "Perulangan ke 3\n",
            "Perulangan ke 4\n",
            "Perulangan ke 5\n",
            "Perulangan ke 6\n",
            "Perulangan ke 7\n",
            "Perulangan ke 8\n",
            "Perulangan ke 9\n",
            "Perulangan ke 10\n"
          ]
        }
      ],
      "source": [
        "#@title Recursion with limit\n",
        "\n",
        "def tampilkanAngka (batas, i = 1):\n",
        "  print(f'Perulangan ke {i}')\n",
        "\n",
        "  if (i < batas):\n",
        "    # recursion\n",
        "    tampilkanAngka(batas, i + 1)\n",
        "\n",
        "tampilkanAngka(10)"
      ]
    },
    {
      "cell_type": "code",
      "execution_count": null,
      "metadata": {
        "colab": {
          "base_uri": "https://localhost:8080/"
        },
        "id": "WTk2-2lAIDSo",
        "outputId": "8c05bff9-4bc1-4fb4-aa7d-e79a3d965355"
      },
      "outputs": [
        {
          "name": "stdout",
          "output_type": "stream",
          "text": [
            "Masukkan nilai n: 5\n",
            "5\n",
            "4\n",
            "3\n",
            "2\n",
            "5! = 120\n"
          ]
        }
      ],
      "source": [
        "#@title Recursion factorial\n",
        "\n",
        "n = int(input('Masukkan nilai n: '))\n",
        "\n",
        "def hitung_faktorial(n):\n",
        "  print(n)\n",
        "  if n > 2:\n",
        "    return n * hitung_faktorial(n - 1)\n",
        "\n",
        "  return 2\n",
        "\n",
        "faktorial = hitung_faktorial(n)\n",
        "print(f'{n}! = {faktorial}')"
      ]
    },
    {
      "cell_type": "markdown",
      "metadata": {
        "id": "4RK8ZTZnJaJF"
      },
      "source": [
        "Rumus :\n",
        "\n",
        "**N! = n × ( n — 1 ) × ………. × 1**\n",
        "\n",
        "\n",
        "Hasil :\n",
        "\n",
        "5! = 5 × (5–1) × ………×1\n",
        "\n",
        "= 5×4 ×3×2×1\n",
        "\n",
        "= 20×3 ×2×1\n",
        "\n",
        "= 60 × 2 × 1\n",
        "\n",
        "= 120"
      ]
    },
    {
      "cell_type": "code",
      "execution_count": null,
      "metadata": {
        "colab": {
          "base_uri": "https://localhost:8080/"
        },
        "id": "VXLFEBdiOydc",
        "outputId": "ad38090a-ab33-4eff-e5e4-919afd4ed7c7"
      },
      "outputs": [
        {
          "name": "stdout",
          "output_type": "stream",
          "text": [
            "120\n"
          ]
        }
      ],
      "source": [
        "#@title Tail recursion\n",
        "\n",
        "def hitung_faktorial(n, a = 1):\n",
        "  if (n == 0):\n",
        "    return a\n",
        "  else:\n",
        "    return hitung_faktorial(n - 1, n * a)\n",
        "\n",
        "print(hitung_faktorial(5))"
      ]
    },
    {
      "cell_type": "markdown",
      "metadata": {
        "id": "Ufs7lOEKRTYN"
      },
      "source": [
        "## High Order Function"
      ]
    },
    {
      "cell_type": "code",
      "execution_count": null,
      "metadata": {
        "colab": {
          "base_uri": "https://localhost:8080/"
        },
        "id": "VYkhTBydRYxr",
        "outputId": "d4993b46-3387-495d-80e5-63060f16dc28"
      },
      "outputs": [
        {
          "name": "stdout",
          "output_type": "stream",
          "text": [
            "15\n"
          ]
        }
      ],
      "source": [
        "#@title Function as a Parameter\n",
        "\n",
        "def lakukan_operasi(func, x, y):\n",
        "  return func(x, y)\n",
        "\n",
        "def tambah(a, b):\n",
        "  return a + b\n",
        "\n",
        "hasil = lakukan_operasi(tambah, 5, 10)\n",
        "print(hasil)"
      ]
    },
    {
      "cell_type": "code",
      "execution_count": null,
      "metadata": {
        "colab": {
          "base_uri": "https://localhost:8080/"
        },
        "id": "ciX2MAHCTxLN",
        "outputId": "58f71abe-3b1a-4785-bebb-fb5b7e219a38"
      },
      "outputs": [
        {
          "name": "stdout",
          "output_type": "stream",
          "text": [
            "hasil penjumlahan: 9\n",
            "hasil penjumlahan: 8\n"
          ]
        }
      ],
      "source": [
        "#@title Function as a Return Value\n",
        "\n",
        "def lakukan_operasi(operasi):\n",
        "  if operasi == '+':\n",
        "    return tambah\n",
        "  elif operasi == '-':\n",
        "    return kurang\n",
        "\n",
        "def tambah(a, b):\n",
        "  return a + b\n",
        "\n",
        "def kurang(a, b):\n",
        "  return a - b\n",
        "\n",
        "obj_tambah = lakukan_operasi('+')\n",
        "print('hasil penjumlahan:', obj_tambah(4, 5))\n",
        "\n",
        "obj_kurang = lakukan_operasi('-')\n",
        "print('hasil penjumlahan:', obj_kurang(10, 2))"
      ]
    },
    {
      "cell_type": "code",
      "execution_count": null,
      "metadata": {
        "colab": {
          "base_uri": "https://localhost:8080/"
        },
        "id": "IQGrepoeWtY8",
        "outputId": "0252a7c4-8dcc-47a2-c5c4-9f8b7f6776a2"
      },
      "outputs": [
        {
          "name": "stdout",
          "output_type": "stream",
          "text": [
            "9\n"
          ]
        }
      ],
      "source": [
        "#@title Function with decorator\n",
        "\n",
        "def lakukan_operasi(func):\n",
        "  def tambah_value(x, y):\n",
        "    value = func(x, y)\n",
        "    return value + 1\n",
        "\n",
        "  return tambah_value\n",
        "\n",
        "@lakukan_operasi\n",
        "def tambah(a, b):\n",
        "  return a + b\n",
        "\n",
        "print(tambah(3, 5))"
      ]
    },
    {
      "cell_type": "markdown",
      "metadata": {
        "id": "9kysbwLsf5m2"
      },
      "source": [
        "## Soal 1\n",
        "\n",
        "Buatlah Function as an Argument dengan argument sebanyak 2 dan 3. salah satu argument bernilai default."
      ]
    },
    {
      "cell_type": "markdown",
      "metadata": {
        "id": "cRPWADiljPVD"
      },
      "source": [
        "## Soal 2\n",
        "\n",
        "Buatlah function lambda yang dieksekusi didalam sebuah fungsi def\n",
        "\n"
      ]
    },
    {
      "cell_type": "markdown",
      "metadata": {
        "id": "kPqj4SDxioyg"
      },
      "source": [
        "## Soal 3\n",
        "\n",
        "Buat function recursion untuk menghitung pangkat"
      ]
    },
    {
      "cell_type": "markdown",
      "metadata": {
        "id": "Bhw76q1ihsOK"
      },
      "source": [
        "## Soal 4\n",
        "\n",
        "Buatlah python dengan decorator seperti dibawah ini\n",
        "\n",
        "![image.png](data:image/png;base64,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)"
      ]
    }
  ],
  "metadata": {
    "colab": {
      "provenance": [],
      "include_colab_link": true
    },
    "kernelspec": {
      "display_name": "Python 3",
      "name": "python3"
    },
    "language_info": {
      "name": "python"
    }
  },
  "nbformat": 4,
  "nbformat_minor": 0
}
