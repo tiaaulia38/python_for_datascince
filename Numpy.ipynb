{
  "nbformat": 4,
  "nbformat_minor": 0,
  "metadata": {
    "colab": {
      "provenance": [],
      "include_colab_link": true
    },
    "kernelspec": {
      "name": "python3",
      "display_name": "Python 3"
    },
    "language_info": {
      "name": "python"
    }
  },
  "cells": [
    {
      "cell_type": "markdown",
      "metadata": {
        "id": "view-in-github",
        "colab_type": "text"
      },
      "source": [
        "<a href=\"https://colab.research.google.com/github/tiaaulia38/python_for_datascince/blob/main/Copy_of_Numpy.ipynb\" target=\"_parent\"><img src=\"https://colab.research.google.com/assets/colab-badge.svg\" alt=\"Open In Colab\"/></a>"
      ]
    },
    {
      "cell_type": "markdown",
      "source": [
        "# Numpy"
      ],
      "metadata": {
        "id": "DZ5yXnqBB7Zn"
      }
    },
    {
      "cell_type": "code",
      "source": [
        "# pip install numpy"
      ],
      "metadata": {
        "id": "6cOfcRV2dezp"
      },
      "execution_count": null,
      "outputs": []
    },
    {
      "cell_type": "code",
      "source": [
        "import numpy as np"
      ],
      "metadata": {
        "id": "t9m0c01lB-UE"
      },
      "execution_count": null,
      "outputs": []
    },
    {
      "cell_type": "markdown",
      "source": [
        "## Numpy Create Array"
      ],
      "metadata": {
        "id": "U-CY1TptBWqg"
      }
    },
    {
      "cell_type": "code",
      "execution_count": null,
      "metadata": {
        "colab": {
          "base_uri": "https://localhost:8080/"
        },
        "id": "OWKfuA1eA6MO",
        "outputId": "b78eb754-5681-4126-dce5-adf07cf4855b"
      },
      "outputs": [
        {
          "output_type": "stream",
          "name": "stdout",
          "text": [
            "42\n"
          ]
        }
      ],
      "source": [
        "#@title 0-D Array\n",
        "\n",
        "var_array = np.array(42)\n",
        "\n",
        "print(var_array)"
      ]
    },
    {
      "cell_type": "code",
      "source": [
        "#@title 1-D Array\n",
        "\n",
        "var_array = np.array([1, 2, 3, 4, 5])\n",
        "\n",
        "print(var_array)"
      ],
      "metadata": {
        "colab": {
          "base_uri": "https://localhost:8080/"
        },
        "id": "BXsW_rNxCM5k",
        "outputId": "708910a0-3264-44b7-d2ba-7a92add7a5f9"
      },
      "execution_count": null,
      "outputs": [
        {
          "output_type": "stream",
          "name": "stdout",
          "text": [
            "[1 2 3 4 5]\n"
          ]
        }
      ]
    },
    {
      "cell_type": "code",
      "source": [
        "var_array = np.ones(5)\n",
        "print(var_array)"
      ],
      "metadata": {
        "colab": {
          "base_uri": "https://localhost:8080/"
        },
        "id": "I38URGqHd6go",
        "outputId": "8e411bdb-9625-4253-8164-930a357f7574"
      },
      "execution_count": null,
      "outputs": [
        {
          "output_type": "stream",
          "name": "stdout",
          "text": [
            "[1. 1. 1. 1. 1.]\n"
          ]
        }
      ]
    },
    {
      "cell_type": "code",
      "source": [
        "var_array = np.zeros(4)\n",
        "print(var_array)"
      ],
      "metadata": {
        "colab": {
          "base_uri": "https://localhost:8080/"
        },
        "id": "Z3tGXYHMeFHQ",
        "outputId": "f27de239-8001-44ef-c643-9ee0c7e82794"
      },
      "execution_count": null,
      "outputs": [
        {
          "output_type": "stream",
          "name": "stdout",
          "text": [
            "[0. 0. 0. 0.]\n"
          ]
        }
      ]
    },
    {
      "cell_type": "code",
      "source": [
        "var_array = np.random.random(6)\n",
        "print(var_array)"
      ],
      "metadata": {
        "colab": {
          "base_uri": "https://localhost:8080/"
        },
        "id": "gLQ6C_jNeMGg",
        "outputId": "d4b03b7c-cfc7-45ab-d82c-2d67d74e4de0"
      },
      "execution_count": null,
      "outputs": [
        {
          "output_type": "stream",
          "name": "stdout",
          "text": [
            "[0.2517622  0.06860088 0.86215751 0.65284615 0.71573341 0.48271725]\n"
          ]
        }
      ]
    },
    {
      "cell_type": "code",
      "source": [
        "#@title 2-D Array\n",
        "\n",
        "var_array = np.array([[1, 2, 3], [4, 5, 6]])\n",
        "\n",
        "print(var_array)"
      ],
      "metadata": {
        "colab": {
          "base_uri": "https://localhost:8080/"
        },
        "id": "2hI20sR-CW7O",
        "outputId": "c0b7ecc3-02cd-4ffa-ac4c-d72d5536663b"
      },
      "execution_count": null,
      "outputs": [
        {
          "output_type": "stream",
          "name": "stdout",
          "text": [
            "[[1 2 3]\n",
            " [4 5 6]]\n"
          ]
        }
      ]
    },
    {
      "cell_type": "code",
      "source": [
        "#@title 3-D Array\n",
        "\n",
        "var_array = np.array([[[1, 2, 3], [4, 5, 6]], [[1, 2, 3], [4, 5, 6]]])\n",
        "print(var_array)"
      ],
      "metadata": {
        "colab": {
          "base_uri": "https://localhost:8080/"
        },
        "id": "rOuPAuONCfHs",
        "outputId": "a134af74-d978-40a5-c5a2-4c96a5103fb9"
      },
      "execution_count": null,
      "outputs": [
        {
          "output_type": "stream",
          "name": "stdout",
          "text": [
            "[[[1 2 3]\n",
            "  [4 5 6]]\n",
            "\n",
            " [[1 2 3]\n",
            "  [4 5 6]]]\n"
          ]
        }
      ]
    },
    {
      "cell_type": "code",
      "source": [
        "#@title Check dimensi array\n",
        "\n",
        "a = np.array(42)\n",
        "b = np.array([1, 2, 3, 4, 5])\n",
        "c = np.array([[1, 2, 3], [4, 5, 6]])\n",
        "d = np.array([[[1, 2, 3], [4, 5, 6]], [[1, 2, 3], [4, 5, 6]]])\n",
        "\n",
        "print(a.ndim)\n",
        "print(b.ndim)\n",
        "print(c.ndim)\n",
        "print(d.ndim)"
      ],
      "metadata": {
        "colab": {
          "base_uri": "https://localhost:8080/"
        },
        "id": "DzHJSRDECtin",
        "outputId": "0b5d8655-5299-4cc6-bf5f-0ee391a3baaa"
      },
      "execution_count": null,
      "outputs": [
        {
          "output_type": "stream",
          "name": "stdout",
          "text": [
            "0\n",
            "1\n",
            "2\n",
            "3\n"
          ]
        }
      ]
    },
    {
      "cell_type": "code",
      "source": [
        "#@title Create array range\n",
        "#numpy.arange(start, stop, step)\n",
        "\n",
        "var_array = np.arange(1, 20, 2)\n",
        "print(var_array)"
      ],
      "metadata": {
        "colab": {
          "base_uri": "https://localhost:8080/"
        },
        "id": "1JRfiUrqFP--",
        "outputId": "e4a5a210-7094-4618-bf57-297b3fa267e3"
      },
      "execution_count": null,
      "outputs": [
        {
          "output_type": "stream",
          "name": "stdout",
          "text": [
            "[ 1  3  5  7  9 11 13 15 17 19]\n"
          ]
        }
      ]
    },
    {
      "cell_type": "code",
      "source": [
        "# create with reshape\n",
        "\n",
        "var_array = np.arange(10).reshape((2, 5))\n",
        "print(var_array)"
      ],
      "metadata": {
        "colab": {
          "base_uri": "https://localhost:8080/"
        },
        "id": "t4s9Il1nHr2j",
        "outputId": "cd3788cb-8167-4ba2-9da4-e1486976cb07"
      },
      "execution_count": null,
      "outputs": [
        {
          "output_type": "stream",
          "name": "stdout",
          "text": [
            "[[0 1 2 3 4]\n",
            " [5 6 7 8 9]]\n"
          ]
        }
      ]
    },
    {
      "cell_type": "code",
      "source": [
        "# create numpy text\n",
        "\n",
        "var_array = np.array(['apple', 'banana', 'cherry'])\n",
        "print(var_array)"
      ],
      "metadata": {
        "colab": {
          "base_uri": "https://localhost:8080/"
        },
        "id": "xMHc-QnHJM3n",
        "outputId": "621c068b-ba65-470e-c6f7-933045e2de70"
      },
      "execution_count": null,
      "outputs": [
        {
          "output_type": "stream",
          "name": "stdout",
          "text": [
            "['apple' 'banana' 'cherry']\n"
          ]
        }
      ]
    },
    {
      "cell_type": "markdown",
      "source": [
        "## Numpy Array Indexing"
      ],
      "metadata": {
        "id": "KxH9DJQoEoSn"
      }
    },
    {
      "cell_type": "code",
      "source": [
        "#@title Akses indeks\n",
        "\n",
        "# 1-D\n",
        "var_array = np.array([85, 55, 40, 90])\n",
        "\n",
        "# mengakses data pada array\n",
        "print(var_array[3])"
      ],
      "metadata": {
        "colab": {
          "base_uri": "https://localhost:8080/"
        },
        "id": "tJ7Y4EUmEDyF",
        "outputId": "d53733ee-7191-4eed-d38c-67078b10a98f"
      },
      "execution_count": null,
      "outputs": [
        {
          "output_type": "stream",
          "name": "stdout",
          "text": [
            "90\n"
          ]
        }
      ]
    },
    {
      "cell_type": "code",
      "source": [
        "# 2-D\n",
        "var_array = np.array([[1,2,3,4,5], [6,7,8,9,10]])\n",
        "\n",
        "print(var_array[1, 2])"
      ],
      "metadata": {
        "colab": {
          "base_uri": "https://localhost:8080/"
        },
        "id": "baXMJ7tVFz3K",
        "outputId": "a5b7f156-b76f-4fa7-a676-9bdc220cbf86"
      },
      "execution_count": null,
      "outputs": [
        {
          "output_type": "stream",
          "name": "stdout",
          "text": [
            "8\n"
          ]
        }
      ]
    },
    {
      "cell_type": "code",
      "source": [
        "# 3-D\n",
        "var_array = np.array([[[1, 2, 3], [4, 5, 6]], [[7, 8, 9], [10, 11, 12]]])\n",
        "\n",
        "print(var_array[1, 1, 2])"
      ],
      "metadata": {
        "colab": {
          "base_uri": "https://localhost:8080/"
        },
        "id": "RPPsLQGWGU65",
        "outputId": "c69f991d-db5b-478b-e3e6-f009ccd03162"
      },
      "execution_count": null,
      "outputs": [
        {
          "output_type": "stream",
          "name": "stdout",
          "text": [
            "12\n"
          ]
        }
      ]
    },
    {
      "cell_type": "code",
      "source": [
        "#@title Operation indeks\n",
        "\n",
        "var_array = np.array([1, 2, 3, 4])\n",
        "\n",
        "print(var_array[2] + var_array[3])"
      ],
      "metadata": {
        "colab": {
          "base_uri": "https://localhost:8080/"
        },
        "id": "llW07msVEtTY",
        "outputId": "50d83018-1c4b-4d2e-c348-8641eca9fd0c"
      },
      "execution_count": null,
      "outputs": [
        {
          "output_type": "stream",
          "name": "stdout",
          "text": [
            "7\n"
          ]
        }
      ]
    },
    {
      "cell_type": "code",
      "source": [
        "print(var_array[0] + var_array[2])"
      ],
      "metadata": {
        "colab": {
          "base_uri": "https://localhost:8080/"
        },
        "id": "cwBVmxk7gMn7",
        "outputId": "b644b5ca-f27b-449e-d008-a3f07e375333"
      },
      "execution_count": null,
      "outputs": [
        {
          "output_type": "stream",
          "name": "stdout",
          "text": [
            "4\n"
          ]
        }
      ]
    },
    {
      "cell_type": "code",
      "source": [
        "#@title Slicing array\n",
        "\n",
        "# 1-D\n",
        "var_array = np.array([1, 2, 3, 4, 5, 6, 7])\n",
        "\n",
        "print(var_array[3:])"
      ],
      "metadata": {
        "colab": {
          "base_uri": "https://localhost:8080/"
        },
        "id": "eTRj4FKCG9AH",
        "outputId": "ce0b1f92-052d-4e8a-cbfb-699a3049463c"
      },
      "execution_count": null,
      "outputs": [
        {
          "output_type": "stream",
          "name": "stdout",
          "text": [
            "[4 5 6 7]\n"
          ]
        }
      ]
    },
    {
      "cell_type": "code",
      "source": [
        "# 2-D\n",
        "var_array = np.array([[1, 2, 3, 4, 5], [6, 7, 8, 9, 10]])\n",
        "\n",
        "print(var_array[0, 1:4])"
      ],
      "metadata": {
        "colab": {
          "base_uri": "https://localhost:8080/"
        },
        "id": "z3JtN1SmImzx",
        "outputId": "3a4de8ac-e16f-4de4-e82e-2d4a4cceaf93"
      },
      "execution_count": null,
      "outputs": [
        {
          "output_type": "stream",
          "name": "stdout",
          "text": [
            "[2 3 4]\n"
          ]
        }
      ]
    },
    {
      "cell_type": "code",
      "source": [
        "# 3-D\n",
        "var_array = np.array([[[1, 2, 3], [4, 5, 6]], [[7, 8, 9], [10, 11, 12]]])\n",
        "\n",
        "print(var_array[1, 1, 0:2])"
      ],
      "metadata": {
        "colab": {
          "base_uri": "https://localhost:8080/"
        },
        "id": "reVZZu8qI3SH",
        "outputId": "6c5d6e22-68c0-4fc1-c145-fb311f871814"
      },
      "execution_count": null,
      "outputs": [
        {
          "output_type": "stream",
          "name": "stdout",
          "text": [
            "[10 11]\n"
          ]
        }
      ]
    },
    {
      "cell_type": "code",
      "source": [
        "#@title Iterating Arrays\n",
        "\n",
        "var_array = np.array([1, 2, 3])\n",
        "\n",
        "for x in var_array:\n",
        "  print(x)"
      ],
      "metadata": {
        "colab": {
          "base_uri": "https://localhost:8080/"
        },
        "id": "Vt3YtRkXKNM1",
        "outputId": "8b75953d-ec65-4405-e9c9-a81c4bbfe390"
      },
      "execution_count": null,
      "outputs": [
        {
          "output_type": "stream",
          "name": "stdout",
          "text": [
            "1\n",
            "2\n",
            "3\n"
          ]
        }
      ]
    },
    {
      "cell_type": "code",
      "source": [
        "var_array = np.array([[[1, 2, 3], [4, 5, 6]], [[7, 8, 9], [10, 11, 12]]])\n",
        "\n",
        "for x in var_array:\n",
        "  print(x)"
      ],
      "metadata": {
        "colab": {
          "base_uri": "https://localhost:8080/"
        },
        "id": "-vHYfejOLtJn",
        "outputId": "9603cf37-567e-4723-f487-089539305b8b"
      },
      "execution_count": null,
      "outputs": [
        {
          "output_type": "stream",
          "name": "stdout",
          "text": [
            "[[1 2 3]\n",
            " [4 5 6]]\n",
            "[[ 7  8  9]\n",
            " [10 11 12]]\n"
          ]
        }
      ]
    },
    {
      "cell_type": "markdown",
      "source": [
        "## Numpy Array Join"
      ],
      "metadata": {
        "id": "IU5xo-sVMArT"
      }
    },
    {
      "cell_type": "code",
      "source": [
        "#@title Concatenate\n",
        "\n",
        "arr1 = np.array([1, 2, 3])\n",
        "arr2 = np.array([4, 5, 6])\n",
        "\n",
        "arr = np.concatenate((arr1, arr2))\n",
        "print(arr)"
      ],
      "metadata": {
        "colab": {
          "base_uri": "https://localhost:8080/"
        },
        "id": "bcYd70eGMDOv",
        "outputId": "8f2f474b-7595-4585-d282-aa968c3be34e"
      },
      "execution_count": null,
      "outputs": [
        {
          "output_type": "stream",
          "name": "stdout",
          "text": [
            "[1 2 3 4 5 6]\n"
          ]
        }
      ]
    },
    {
      "cell_type": "code",
      "source": [
        "var_array1 = np.array([[[1, 2, 3], [4, 5, 6]], [[7, 8, 9], [10, 11, 12]]])\n",
        "var_array2 = np.array([[[4, 7, 9], [1, 6, 2]], [[3, 5, 8], [19, 10, 14]]])\n",
        "\n",
        "arr = np.concatenate((var_array1, var_array2))\n",
        "print(arr)"
      ],
      "metadata": {
        "colab": {
          "base_uri": "https://localhost:8080/"
        },
        "id": "a2VusJj6hmAB",
        "outputId": "ca53011b-52e7-43fe-cda8-04f732e423c3"
      },
      "execution_count": null,
      "outputs": [
        {
          "output_type": "stream",
          "name": "stdout",
          "text": [
            "[[[ 1  2  3]\n",
            "  [ 4  5  6]]\n",
            "\n",
            " [[ 7  8  9]\n",
            "  [10 11 12]]\n",
            "\n",
            " [[ 4  7  9]\n",
            "  [ 1  6  2]]\n",
            "\n",
            " [[ 3  5  8]\n",
            "  [19 10 14]]]\n"
          ]
        }
      ]
    },
    {
      "cell_type": "code",
      "source": [
        "#@title Stack\n",
        "\n",
        "arr1 = np.array([1, 2, 3])\n",
        "arr2 = np.array([4, 5, 6])\n",
        "\n",
        "# arr = np.stack((arr1, arr2))\n",
        "# arr = np.hstack((arr1, arr2))\n",
        "# arr = np.vstack((arr1, arr2))\n",
        "arr = np.dstack((arr1, arr2))\n",
        "\n",
        "print(arr)"
      ],
      "metadata": {
        "colab": {
          "base_uri": "https://localhost:8080/"
        },
        "id": "quCBNSDeMYGT",
        "outputId": "46810ec1-95c6-4953-e10d-7e03b2f81e61"
      },
      "execution_count": null,
      "outputs": [
        {
          "output_type": "stream",
          "name": "stdout",
          "text": [
            "[[[1 4]\n",
            "  [2 5]\n",
            "  [3 6]]]\n"
          ]
        }
      ]
    },
    {
      "cell_type": "markdown",
      "source": [
        "## Numpy Splitting"
      ],
      "metadata": {
        "id": "8Im0vogqNXAd"
      }
    },
    {
      "cell_type": "code",
      "source": [
        "# 1-D\n",
        "arr = np.array([1, 2, 3, 4, 5, 6])\n",
        "newarr = np.array_split(arr, 3)\n",
        "\n",
        "print(newarr)"
      ],
      "metadata": {
        "colab": {
          "base_uri": "https://localhost:8080/"
        },
        "id": "Y-3UAsZ-Mwsi",
        "outputId": "5779f24c-dd8d-4dc1-f697-48ba5fed3727"
      },
      "execution_count": null,
      "outputs": [
        {
          "output_type": "stream",
          "name": "stdout",
          "text": [
            "[array([1, 2]), array([3, 4]), array([5, 6])]\n"
          ]
        }
      ]
    },
    {
      "cell_type": "code",
      "source": [
        "# 2-D\n",
        "arr = np.array([[1, 2], [3, 4], [5, 6], [7, 8], [9, 10], [11, 12]])\n",
        "newarr = np.array_split(arr, 3)\n",
        "\n",
        "print(newarr)"
      ],
      "metadata": {
        "colab": {
          "base_uri": "https://localhost:8080/"
        },
        "id": "bYP_BmtzNgH7",
        "outputId": "28d4f738-7a5d-4292-a1f4-3322f7b3cf82"
      },
      "execution_count": null,
      "outputs": [
        {
          "output_type": "stream",
          "name": "stdout",
          "text": [
            "[array([[1, 2],\n",
            "       [3, 4]]), array([[5, 6],\n",
            "       [7, 8]]), array([[ 9, 10],\n",
            "       [11, 12]])]\n"
          ]
        }
      ]
    },
    {
      "cell_type": "code",
      "source": [
        "# 3-D\n",
        "arr = np.array([[[1, 2, 3], [4, 5, 6]], [[1, 2, 3], [4, 5, 6]]])\n",
        "newarr = np.array_split(arr, 2)\n",
        "\n",
        "print(newarr)"
      ],
      "metadata": {
        "colab": {
          "base_uri": "https://localhost:8080/"
        },
        "id": "r9cMUI_TNvCD",
        "outputId": "65eac68e-3262-4252-ed04-dc2e9fe0cedf"
      },
      "execution_count": null,
      "outputs": [
        {
          "output_type": "stream",
          "name": "stdout",
          "text": [
            "[array([[[1, 2, 3],\n",
            "        [4, 5, 6]]]), array([[[1, 2, 3],\n",
            "        [4, 5, 6]]])]\n"
          ]
        }
      ]
    },
    {
      "cell_type": "markdown",
      "source": [
        "## Numpy Matriks"
      ],
      "metadata": {
        "id": "SxA4iVwtOY4T"
      }
    },
    {
      "cell_type": "code",
      "source": [
        "matriks = [[1,2,3],\n",
        "           [4,5,6],\n",
        "           [7,8,9]]\n",
        "\n",
        "matrik_np = np.array(matriks)\n",
        "print(matrik_np)"
      ],
      "metadata": {
        "colab": {
          "base_uri": "https://localhost:8080/"
        },
        "id": "Yfw8yK-XOcxe",
        "outputId": "94065bc8-113a-47d6-801d-caee8fe86d6b"
      },
      "execution_count": null,
      "outputs": [
        {
          "output_type": "stream",
          "name": "stdout",
          "text": [
            "[[1 2 3]\n",
            " [4 5 6]\n",
            " [7 8 9]]\n"
          ]
        }
      ]
    },
    {
      "cell_type": "code",
      "source": [
        "#@title Operasi matrik\n",
        "\n",
        "matrik_a = np.array([\n",
        "    [1, 2, 3],\n",
        "    [4, 5, 6],\n",
        "    [7, 8, 9]])\n",
        "\n",
        "matrik_b = np.array([\n",
        "    [3, 2, 1],\n",
        "    [6, 5, 4],\n",
        "    [9, 8, 7]])\n",
        "\n",
        "\n",
        "hasil = matrik_a + matrik_b\n",
        "print(\"Hasil Penjumlahan:\")\n",
        "print(hasil)"
      ],
      "metadata": {
        "colab": {
          "base_uri": "https://localhost:8080/"
        },
        "id": "Hz-yOa3rO_7j",
        "outputId": "6c56941e-1a38-4c0e-bd10-11f07aff5de1"
      },
      "execution_count": null,
      "outputs": [
        {
          "output_type": "stream",
          "name": "stdout",
          "text": [
            "Hasil Penjumlahan:\n",
            "[[ 4  4  4]\n",
            " [10 10 10]\n",
            " [16 16 16]]\n"
          ]
        }
      ]
    },
    {
      "cell_type": "code",
      "source": [
        "hasil = matrik_a - matrik_b\n",
        "print(\"Hasil Pengurangan:\")\n",
        "print(hasil)"
      ],
      "metadata": {
        "colab": {
          "base_uri": "https://localhost:8080/"
        },
        "id": "bHFujpfZPPb3",
        "outputId": "822058a2-68b2-446e-94e0-9c010cea2308"
      },
      "execution_count": null,
      "outputs": [
        {
          "output_type": "stream",
          "name": "stdout",
          "text": [
            "Hasil Pengurangan:\n",
            "[[-2  0  2]\n",
            " [-2  0  2]\n",
            " [-2  0  2]]\n"
          ]
        }
      ]
    },
    {
      "cell_type": "code",
      "source": [
        "# pangkat dengan power()\n",
        "\n",
        "result_power = np.power(matrik_a, 2)\n",
        "print(\"Hasil Perhitungan Pangkat (matrik_a pangkat 2):\")\n",
        "print(result_power)"
      ],
      "metadata": {
        "colab": {
          "base_uri": "https://localhost:8080/"
        },
        "id": "5lo_7Ur9Prco",
        "outputId": "61ed2212-e5bb-4aef-9cbd-86631eb7cb69"
      },
      "execution_count": null,
      "outputs": [
        {
          "output_type": "stream",
          "name": "stdout",
          "text": [
            "Hasil Perhitungan Pangkat (matrik_a pangkat 2):\n",
            "[[ 1  4  9]\n",
            " [16 25 36]\n",
            " [49 64 81]]\n"
          ]
        }
      ]
    },
    {
      "cell_type": "code",
      "source": [
        "# trigonometri dengan sin()\n",
        "\n",
        "result_power = np.sin(matrik_a)\n",
        "print(\"Hasil sin matrik_a:\")\n",
        "print(result_power)"
      ],
      "metadata": {
        "colab": {
          "base_uri": "https://localhost:8080/"
        },
        "id": "i-uvGqNBQARt",
        "outputId": "f7102c15-4b16-400f-ff13-fa30e44a7f44"
      },
      "execution_count": null,
      "outputs": [
        {
          "output_type": "stream",
          "name": "stdout",
          "text": [
            "Hasil sin matrik_a:\n",
            "[[ 0.84147098  0.90929743  0.14112001]\n",
            " [-0.7568025  -0.95892427 -0.2794155 ]\n",
            " [ 0.6569866   0.98935825  0.41211849]]\n"
          ]
        }
      ]
    },
    {
      "cell_type": "code",
      "source": [
        "#@title Transpose matrik\n",
        "\n",
        "matrik_a = np.array([\n",
        "    [1, 2, 3],\n",
        "    [4, 5, 6],\n",
        "    [7, 8, 9]])\n",
        "\n",
        "print(\"Matrik awal: \")\n",
        "print(matrik_a)\n",
        "\n",
        "\n",
        "hasil = matrik_a.transpose()\n",
        "print(\"\\nMatrik kebalikan: \")\n",
        "print(hasil)"
      ],
      "metadata": {
        "colab": {
          "base_uri": "https://localhost:8080/"
        },
        "id": "G26arLORQYQb",
        "outputId": "f3f9238d-3fb1-4f2c-9376-a189aebe00ec"
      },
      "execution_count": null,
      "outputs": [
        {
          "output_type": "stream",
          "name": "stdout",
          "text": [
            "Matrik awal: \n",
            "[[1 2 3]\n",
            " [4 5 6]\n",
            " [7 8 9]]\n",
            "\n",
            "Matrik kebalikan: \n",
            "[[1 4 7]\n",
            " [2 5 8]\n",
            " [3 6 9]]\n"
          ]
        }
      ]
    },
    {
      "cell_type": "code",
      "source": [
        "#@title Reshape matrik\n",
        "\n",
        "matrik_a = np.array([1, 2, 3, 4, 5, 6])\n",
        "\n",
        "print(\"Matrik awal: \")\n",
        "print(matrik_a)\n",
        "print(\"Ukuran = \", matrik_a.shape)\n",
        "\n",
        "# mengubah ukran ke 3x2\n",
        "hasil = matrik_a.reshape(3, 2)\n",
        "\n",
        "print(\"\\nMengubah ke 3x2: \")\n",
        "print(hasil)\n",
        "print(\"Ukuran = \", hasil.shape)"
      ],
      "metadata": {
        "colab": {
          "base_uri": "https://localhost:8080/"
        },
        "id": "WFsHSCEgQrBU",
        "outputId": "a6698890-f13a-406a-d548-b89356b06ff8"
      },
      "execution_count": null,
      "outputs": [
        {
          "output_type": "stream",
          "name": "stdout",
          "text": [
            "Matrik awal: \n",
            "[1 2 3 4 5 6]\n",
            "Ukuran =  (6,)\n",
            "\n",
            "Mengubah ke 3x2: \n",
            "[[1 2]\n",
            " [3 4]\n",
            " [5 6]]\n",
            "Ukuran =  (3, 2)\n"
          ]
        }
      ]
    },
    {
      "cell_type": "code",
      "source": [
        "#@title Matrik flatten\n",
        "\n",
        "matrik_a = np.array([\n",
        "    [1, 2, 3],\n",
        "    [4, 5, 6],\n",
        "    [7, 8, 9]])\n",
        "\n",
        "print(\"Matrik awal: \")\n",
        "print(matrik_a)\n",
        "print(\"Ukuran = \", matrik_a.shape)\n",
        "\n",
        "hasil = matrik_a.flatten()\n",
        "\n",
        "print(\"\\nMatrik setelah di-flatten: \")\n",
        "print(hasil)\n",
        "print(\"Ukuran = \", hasil.shape)"
      ],
      "metadata": {
        "colab": {
          "base_uri": "https://localhost:8080/"
        },
        "id": "Ywm8X8viRMLB",
        "outputId": "a1d97ae9-33a7-421e-ad44-608d3a71bbc6"
      },
      "execution_count": null,
      "outputs": [
        {
          "output_type": "stream",
          "name": "stdout",
          "text": [
            "Matrik awal: \n",
            "[[1 2 3]\n",
            " [4 5 6]\n",
            " [7 8 9]]\n",
            "Ukuran =  (3, 3)\n",
            "\n",
            "Matrik setelah di-flatten: \n",
            "[1 2 3 4 5 6 7 8 9]\n",
            "Ukuran =  (9,)\n"
          ]
        }
      ]
    },
    {
      "cell_type": "markdown",
      "source": [
        "## Numpy Statistik"
      ],
      "metadata": {
        "id": "lg_F01VMRqo8"
      }
    },
    {
      "cell_type": "code",
      "source": [
        "#@title rata-rata (mean)\n",
        "\n",
        "data = np.array([12, 15, 18, 22, 30, 35, 40, 45, 55, 65])\n",
        "\n",
        "mean = np.mean(data)\n",
        "print(\"Rata-rata (mean):\", mean)"
      ],
      "metadata": {
        "colab": {
          "base_uri": "https://localhost:8080/"
        },
        "id": "leAMMl5jRtnc",
        "outputId": "68de4d1c-4db2-4a2c-cc28-57ece95bcaf2"
      },
      "execution_count": null,
      "outputs": [
        {
          "output_type": "stream",
          "name": "stdout",
          "text": [
            "Rata-rata (mean): 33.7\n"
          ]
        }
      ]
    },
    {
      "cell_type": "code",
      "source": [
        "#@title median\n",
        "\n",
        "median = np.median(data)\n",
        "print(\"Median:\", median)"
      ],
      "metadata": {
        "colab": {
          "base_uri": "https://localhost:8080/"
        },
        "id": "6HKY1kjfRz0E",
        "outputId": "654e431e-ba73-4950-93c7-59473a935589"
      },
      "execution_count": null,
      "outputs": [
        {
          "output_type": "stream",
          "name": "stdout",
          "text": [
            "Median: 32.5\n"
          ]
        }
      ]
    },
    {
      "cell_type": "code",
      "source": [
        "#@title standard deviation\n",
        "\n",
        "std_deviation = np.std(data)\n",
        "print(\"Deviasi Standar (standard deviation):\", std_deviation)"
      ],
      "metadata": {
        "colab": {
          "base_uri": "https://localhost:8080/"
        },
        "id": "mV5b4nxpSET5",
        "outputId": "9ef55f30-666b-4ee5-ca0b-1cdeebec386a"
      },
      "execution_count": null,
      "outputs": [
        {
          "output_type": "stream",
          "name": "stdout",
          "text": [
            "Deviasi Standar (standard deviation): 16.79315336677421\n"
          ]
        }
      ]
    },
    {
      "cell_type": "code",
      "source": [
        "#@title variansi (variance)\n",
        "\n",
        "variance = np.var(data)\n",
        "print(\"Variansi (variance):\", variance)"
      ],
      "metadata": {
        "colab": {
          "base_uri": "https://localhost:8080/"
        },
        "id": "c125S8cpSKuu",
        "outputId": "e7f14ce1-6161-4434-b4fa-25a5ffa1bf49"
      },
      "execution_count": null,
      "outputs": [
        {
          "output_type": "stream",
          "name": "stdout",
          "text": [
            "Variansi (variance): 282.01\n"
          ]
        }
      ]
    },
    {
      "cell_type": "code",
      "source": [
        "#@title minimum dan maksimum\n",
        "\n",
        "minimum = np.min(data)\n",
        "maximum = np.max(data)\n",
        "print(\"Nilai Minimum:\", minimum)\n",
        "print(\"Nilai Maksimum:\", maximum)"
      ],
      "metadata": {
        "colab": {
          "base_uri": "https://localhost:8080/"
        },
        "id": "HqPLQuc0SQ7i",
        "outputId": "824571b0-0214-480a-9ba6-507143aa7815"
      },
      "execution_count": null,
      "outputs": [
        {
          "output_type": "stream",
          "name": "stdout",
          "text": [
            "Nilai Minimum: 12\n",
            "Nilai Maksimum: 65\n"
          ]
        }
      ]
    },
    {
      "cell_type": "code",
      "source": [
        "#@title quartile\n",
        "\n",
        "# Menghitung kuartil pertama (Q1) dan kuartil ketiga (Q3)\n",
        "q1 = np.percentile(data, 25)\n",
        "q3 = np.percentile(data, 75)\n",
        "print(\"Kuartil Pertama (Q1):\", q1)\n",
        "print(\"Kuartil Ketiga (Q3):\", q3)\n",
        "\n",
        "\n",
        "# Menghitung rentang interkuartil (IQR)\n",
        "iqr = q3 - q1\n",
        "print(\"Rentang Interkuartil (IQR):\", iqr)"
      ],
      "metadata": {
        "colab": {
          "base_uri": "https://localhost:8080/"
        },
        "id": "kvH8VLXRSWWF",
        "outputId": "bea4e7f1-80e4-4843-83c2-9ca80892ea5d"
      },
      "execution_count": null,
      "outputs": [
        {
          "output_type": "stream",
          "name": "stdout",
          "text": [
            "Kuartil Pertama (Q1): 19.0\n",
            "Kuartil Ketiga (Q3): 43.75\n",
            "Rentang Interkuartil (IQR): 24.75\n"
          ]
        }
      ]
    },
    {
      "cell_type": "markdown",
      "source": [
        "## Soal 1\n",
        "\n",
        "Buat contoh :\n",
        "\n",
        "* numpy array (1D, 2D, 3D)\n",
        "* numpy join\n",
        "* numpy split\n",
        "* operasi matrik"
      ],
      "metadata": {
        "id": "DGpiGKJ7WxX-"
      }
    },
    {
      "cell_type": "markdown",
      "source": [
        "## Soal 2\n",
        "\n",
        "* Buatlah numpy array dengan matrik ukuran 3x4 dan range array 10-30\n",
        "* Kemudian lakukan flatten\n",
        "* cari nilai statistik (mean, median, dsb)"
      ],
      "metadata": {
        "id": "t1PLm38lSw8u"
      }
    }
  ]
}
